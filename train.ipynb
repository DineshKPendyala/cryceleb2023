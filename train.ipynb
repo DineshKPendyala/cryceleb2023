{
  "cells": [
    {
      "cell_type": "markdown",
      "metadata": {
        "id": "fvP3aM0oMKvT"
      },
      "source": [
        "# Fine-tuning ECAPA-TDNN on  [CryCeleb2023](https://huggingface.co/spaces/competitions/CryCeleb2023) using [SpeechBrain](https://speechbrain.readthedocs.io)\n",
        "\n",
        "This notebook should help you get started training your own models for CryCeleb2023 challenge.\n",
        "\n",
        "Note that it is provides basic example for simplicity and speed.\n",
        "\n",
        "Author: David Budaghyan (Ubenwa)\n"
      ]
    },
    {
      "cell_type": "markdown",
      "metadata": {
        "id": "xLoVtmTDGVby"
      },
      "source": [
        "### Imports"
      ]
    },
    {
      "cell_type": "code",
      "execution_count": 1,
      "metadata": {
        "colab": {
          "base_uri": "https://localhost:8080/"
        },
        "id": "IpwymCt0K0rO",
        "outputId": "0447331f-a168-4394-e45f-d80938bcd3e4"
      },
      "outputs": [
        {
          "output_type": "stream",
          "name": "stdout",
          "text": [
            "Requirement already satisfied: speechbrain in /usr/local/lib/python3.11/dist-packages (1.0.2)\n",
            "Requirement already satisfied: hyperpyyaml in /usr/local/lib/python3.11/dist-packages (from speechbrain) (1.2.2)\n",
            "Requirement already satisfied: joblib in /usr/local/lib/python3.11/dist-packages (from speechbrain) (1.4.2)\n",
            "Requirement already satisfied: numpy in /usr/local/lib/python3.11/dist-packages (from speechbrain) (1.26.4)\n",
            "Requirement already satisfied: packaging in /usr/local/lib/python3.11/dist-packages (from speechbrain) (24.2)\n",
            "Requirement already satisfied: scipy in /usr/local/lib/python3.11/dist-packages (from speechbrain) (1.13.1)\n",
            "Requirement already satisfied: sentencepiece in /usr/local/lib/python3.11/dist-packages (from speechbrain) (0.2.0)\n",
            "Requirement already satisfied: torch>=1.9 in /usr/local/lib/python3.11/dist-packages (from speechbrain) (2.5.1+cu124)\n",
            "Requirement already satisfied: torchaudio in /usr/local/lib/python3.11/dist-packages (from speechbrain) (2.5.1+cu124)\n",
            "Requirement already satisfied: tqdm in /usr/local/lib/python3.11/dist-packages (from speechbrain) (4.67.1)\n",
            "Requirement already satisfied: huggingface-hub in /usr/local/lib/python3.11/dist-packages (from speechbrain) (0.28.1)\n",
            "Requirement already satisfied: filelock in /usr/local/lib/python3.11/dist-packages (from torch>=1.9->speechbrain) (3.17.0)\n",
            "Requirement already satisfied: typing-extensions>=4.8.0 in /usr/local/lib/python3.11/dist-packages (from torch>=1.9->speechbrain) (4.12.2)\n",
            "Requirement already satisfied: networkx in /usr/local/lib/python3.11/dist-packages (from torch>=1.9->speechbrain) (3.4.2)\n",
            "Requirement already satisfied: jinja2 in /usr/local/lib/python3.11/dist-packages (from torch>=1.9->speechbrain) (3.1.5)\n",
            "Requirement already satisfied: fsspec in /usr/local/lib/python3.11/dist-packages (from torch>=1.9->speechbrain) (2024.10.0)\n",
            "Requirement already satisfied: nvidia-cuda-nvrtc-cu12==12.4.127 in /usr/local/lib/python3.11/dist-packages (from torch>=1.9->speechbrain) (12.4.127)\n",
            "Requirement already satisfied: nvidia-cuda-runtime-cu12==12.4.127 in /usr/local/lib/python3.11/dist-packages (from torch>=1.9->speechbrain) (12.4.127)\n",
            "Requirement already satisfied: nvidia-cuda-cupti-cu12==12.4.127 in /usr/local/lib/python3.11/dist-packages (from torch>=1.9->speechbrain) (12.4.127)\n",
            "Requirement already satisfied: nvidia-cudnn-cu12==9.1.0.70 in /usr/local/lib/python3.11/dist-packages (from torch>=1.9->speechbrain) (9.1.0.70)\n",
            "Requirement already satisfied: nvidia-cublas-cu12==12.4.5.8 in /usr/local/lib/python3.11/dist-packages (from torch>=1.9->speechbrain) (12.4.5.8)\n",
            "Requirement already satisfied: nvidia-cufft-cu12==11.2.1.3 in /usr/local/lib/python3.11/dist-packages (from torch>=1.9->speechbrain) (11.2.1.3)\n",
            "Requirement already satisfied: nvidia-curand-cu12==10.3.5.147 in /usr/local/lib/python3.11/dist-packages (from torch>=1.9->speechbrain) (10.3.5.147)\n",
            "Requirement already satisfied: nvidia-cusolver-cu12==11.6.1.9 in /usr/local/lib/python3.11/dist-packages (from torch>=1.9->speechbrain) (11.6.1.9)\n",
            "Requirement already satisfied: nvidia-cusparse-cu12==12.3.1.170 in /usr/local/lib/python3.11/dist-packages (from torch>=1.9->speechbrain) (12.3.1.170)\n",
            "Requirement already satisfied: nvidia-nccl-cu12==2.21.5 in /usr/local/lib/python3.11/dist-packages (from torch>=1.9->speechbrain) (2.21.5)\n",
            "Requirement already satisfied: nvidia-nvtx-cu12==12.4.127 in /usr/local/lib/python3.11/dist-packages (from torch>=1.9->speechbrain) (12.4.127)\n",
            "Requirement already satisfied: nvidia-nvjitlink-cu12==12.4.127 in /usr/local/lib/python3.11/dist-packages (from torch>=1.9->speechbrain) (12.4.127)\n",
            "Requirement already satisfied: triton==3.1.0 in /usr/local/lib/python3.11/dist-packages (from torch>=1.9->speechbrain) (3.1.0)\n",
            "Requirement already satisfied: sympy==1.13.1 in /usr/local/lib/python3.11/dist-packages (from torch>=1.9->speechbrain) (1.13.1)\n",
            "Requirement already satisfied: mpmath<1.4,>=1.1.0 in /usr/local/lib/python3.11/dist-packages (from sympy==1.13.1->torch>=1.9->speechbrain) (1.3.0)\n",
            "Requirement already satisfied: pyyaml>=5.1 in /usr/local/lib/python3.11/dist-packages (from huggingface-hub->speechbrain) (6.0.2)\n",
            "Requirement already satisfied: requests in /usr/local/lib/python3.11/dist-packages (from huggingface-hub->speechbrain) (2.32.3)\n",
            "Requirement already satisfied: ruamel.yaml>=0.17.28 in /usr/local/lib/python3.11/dist-packages (from hyperpyyaml->speechbrain) (0.18.10)\n",
            "Requirement already satisfied: ruamel.yaml.clib>=0.2.7 in /usr/local/lib/python3.11/dist-packages (from ruamel.yaml>=0.17.28->hyperpyyaml->speechbrain) (0.2.12)\n",
            "Requirement already satisfied: MarkupSafe>=2.0 in /usr/local/lib/python3.11/dist-packages (from jinja2->torch>=1.9->speechbrain) (3.0.2)\n",
            "Requirement already satisfied: charset-normalizer<4,>=2 in /usr/local/lib/python3.11/dist-packages (from requests->huggingface-hub->speechbrain) (3.4.1)\n",
            "Requirement already satisfied: idna<4,>=2.5 in /usr/local/lib/python3.11/dist-packages (from requests->huggingface-hub->speechbrain) (3.10)\n",
            "Requirement already satisfied: urllib3<3,>=1.21.1 in /usr/local/lib/python3.11/dist-packages (from requests->huggingface-hub->speechbrain) (2.3.0)\n",
            "Requirement already satisfied: certifi>=2017.4.17 in /usr/local/lib/python3.11/dist-packages (from requests->huggingface-hub->speechbrain) (2025.1.31)\n",
            "Cloning into 'cryceleb2023'...\n",
            "remote: Enumerating objects: 48, done.\u001b[K\n",
            "remote: Counting objects: 100% (48/48), done.\u001b[K\n",
            "remote: Compressing objects: 100% (34/34), done.\u001b[K\n",
            "remote: Total 48 (delta 21), reused 33 (delta 13), pack-reused 0 (from 0)\u001b[K\n",
            "Receiving objects: 100% (48/48), 69.97 KiB | 577.00 KiB/s, done.\n",
            "Resolving deltas: 100% (21/21), done.\n",
            "/content/cryceleb2023\n"
          ]
        }
      ],
      "source": [
        "# For Colab - uncomment and run the following to set up the repo\n",
        "!pip install speechbrain\n",
        "#!git clone https://github.com/Ubenwa/cryceleb2023.git\n",
        "!git clone https://github.com/DineshKPendyala/cryceleb2023.git\n",
        "%cd cryceleb2023"
      ]
    },
    {
      "cell_type": "code",
      "execution_count": 2,
      "metadata": {
        "id": "5k7MiTJsK2Ba"
      },
      "outputs": [],
      "source": [
        "%%capture\n",
        "%load_ext autoreload\n",
        "%autoreload 2\n",
        "\n",
        "import pathlib\n",
        "import random\n",
        "\n",
        "import numpy as np\n",
        "import pandas as pd\n",
        "import seaborn as sns\n",
        "import speechbrain as sb\n",
        "import torch\n",
        "from huggingface_hub import hf_hub_download\n",
        "from hyperpyyaml import load_hyperpyyaml\n",
        "from IPython.display import display\n",
        "from speechbrain.dataio.dataio import read_audio, write_audio\n",
        "from speechbrain.dataio.dataset import DynamicItemDataset\n",
        "from speechbrain.dataio.encoder import CategoricalEncoder\n",
        "\n",
        "from crybrain import CryBrain, download_data, download_data_drive\n",
        "\n",
        "#dataset_path = \"data\""
      ]
    },
    {
      "cell_type": "code",
      "source": [],
      "metadata": {
        "id": "G9rLVY-GGhAl"
      },
      "execution_count": 2,
      "outputs": []
    },
    {
      "cell_type": "code",
      "source": [
        "from google.colab import drive\n",
        "drive.mount('/content/drive')"
      ],
      "metadata": {
        "id": "Xou9fGCBHUn9"
      },
      "execution_count": null,
      "outputs": []
    },
    {
      "cell_type": "markdown",
      "metadata": {
        "id": "oBhuztrjHQX8"
      },
      "source": [
        "### Download data\n",
        "\n",
        "You need to log in to HuggingFace to be able to download the dataset"
      ]
    },
    {
      "cell_type": "code",
      "execution_count": 3,
      "metadata": {
        "id": "Du5UrdEgKx7a"
      },
      "outputs": [],
      "source": [
        "#from huggingface_hub import notebook_login\n",
        "\n",
        "#notebook_login()"
      ]
    },
    {
      "cell_type": "code",
      "source": [
        "from crybrain import CryBrain, download_data , download_data_drive\n"
      ],
      "metadata": {
        "id": "6YYEGKYSPF3B"
      },
      "execution_count": 4,
      "outputs": []
    },
    {
      "cell_type": "code",
      "source": [
        "from crybrain import CryBrain, download_data , download_data_drive # Ensure this line is executed before using download_data_drive\n",
        "from google.colab import drive\n",
        "drive.mount('/content/drive')\n",
        "import os\n",
        "dataset_path = \"/content/drive/MyDrive/huggingface_dataset\"\n",
        "download_data_drive(dataset_path)"
      ],
      "metadata": {
        "colab": {
          "base_uri": "https://localhost:8080/"
        },
        "id": "24MVVV3ZOCtK",
        "outputId": "052d178a-2943-4445-e70e-b1628e354d90"
      },
      "execution_count": 5,
      "outputs": [
        {
          "output_type": "stream",
          "name": "stdout",
          "text": [
            "Mounted at /content/drive\n",
            "It appears that data is already downloaded. \n",
            "If you think it should be re-downloaded, remove /content/drive/MyDrive/huggingface_dataset/ directory and re-run\n"
          ]
        }
      ]
    },
    {
      "cell_type": "code",
      "execution_count": 6,
      "metadata": {
        "colab": {
          "base_uri": "https://localhost:8080/",
          "height": 515
        },
        "id": "JrT1EvuiLjlr",
        "outputId": "5cf80d4f-2947-4332-f985-ae1b8af8c5cd"
      },
      "outputs": [
        {
          "output_type": "display_data",
          "data": {
            "text/plain": [
              "<pandas.io.formats.style.Styler at 0x7ab8df156ed0>"
            ],
            "text/html": [
              "<style type=\"text/css\">\n",
              "#T_64dc0 caption {\n",
              "  font-size: 20px;\n",
              "}\n",
              "</style>\n",
              "<table id=\"T_64dc0\" class=\"dataframe\">\n",
              "  <caption>train_metadata</caption>\n",
              "  <thead>\n",
              "    <tr>\n",
              "      <th class=\"blank level0\" >&nbsp;</th>\n",
              "      <th id=\"T_64dc0_level0_col0\" class=\"col_heading level0 col0\" >baby_id</th>\n",
              "      <th id=\"T_64dc0_level0_col1\" class=\"col_heading level0 col1\" >period</th>\n",
              "      <th id=\"T_64dc0_level0_col2\" class=\"col_heading level0 col2\" >duration</th>\n",
              "      <th id=\"T_64dc0_level0_col3\" class=\"col_heading level0 col3\" >split</th>\n",
              "      <th id=\"T_64dc0_level0_col4\" class=\"col_heading level0 col4\" >chronological_index</th>\n",
              "      <th id=\"T_64dc0_level0_col5\" class=\"col_heading level0 col5\" >file_name</th>\n",
              "      <th id=\"T_64dc0_level0_col6\" class=\"col_heading level0 col6\" >file_id</th>\n",
              "    </tr>\n",
              "  </thead>\n",
              "  <tbody>\n",
              "    <tr>\n",
              "      <th id=\"T_64dc0_level0_row0\" class=\"row_heading level0 row0\" >45</th>\n",
              "      <td id=\"T_64dc0_row0_col0\" class=\"data row0 col0\" >0369</td>\n",
              "      <td id=\"T_64dc0_row0_col1\" class=\"data row0 col1\" >B</td>\n",
              "      <td id=\"T_64dc0_row0_col2\" class=\"data row0 col2\" >1.160000</td>\n",
              "      <td id=\"T_64dc0_row0_col3\" class=\"data row0 col3\" >train</td>\n",
              "      <td id=\"T_64dc0_row0_col4\" class=\"data row0 col4\" >000</td>\n",
              "      <td id=\"T_64dc0_row0_col5\" class=\"data row0 col5\" >audio/train/0369/B/0369_B_000.wav</td>\n",
              "      <td id=\"T_64dc0_row0_col6\" class=\"data row0 col6\" >0369_B_000</td>\n",
              "    </tr>\n",
              "    <tr>\n",
              "      <th id=\"T_64dc0_level0_row1\" class=\"row_heading level0 row1\" >46</th>\n",
              "      <td id=\"T_64dc0_row1_col0\" class=\"data row1 col0\" >0369</td>\n",
              "      <td id=\"T_64dc0_row1_col1\" class=\"data row1 col1\" >B</td>\n",
              "      <td id=\"T_64dc0_row1_col2\" class=\"data row1 col2\" >0.830000</td>\n",
              "      <td id=\"T_64dc0_row1_col3\" class=\"data row1 col3\" >train</td>\n",
              "      <td id=\"T_64dc0_row1_col4\" class=\"data row1 col4\" >001</td>\n",
              "      <td id=\"T_64dc0_row1_col5\" class=\"data row1 col5\" >audio/train/0369/B/0369_B_001.wav</td>\n",
              "      <td id=\"T_64dc0_row1_col6\" class=\"data row1 col6\" >0369_B_001</td>\n",
              "    </tr>\n",
              "    <tr>\n",
              "      <th id=\"T_64dc0_level0_row2\" class=\"row_heading level0 row2\" >47</th>\n",
              "      <td id=\"T_64dc0_row2_col0\" class=\"data row2 col0\" >0369</td>\n",
              "      <td id=\"T_64dc0_row2_col1\" class=\"data row2 col1\" >B</td>\n",
              "      <td id=\"T_64dc0_row2_col2\" class=\"data row2 col2\" >1.320000</td>\n",
              "      <td id=\"T_64dc0_row2_col3\" class=\"data row2 col3\" >train</td>\n",
              "      <td id=\"T_64dc0_row2_col4\" class=\"data row2 col4\" >002</td>\n",
              "      <td id=\"T_64dc0_row2_col5\" class=\"data row2 col5\" >audio/train/0369/B/0369_B_002.wav</td>\n",
              "      <td id=\"T_64dc0_row2_col6\" class=\"data row2 col6\" >0369_B_002</td>\n",
              "    </tr>\n",
              "    <tr>\n",
              "      <th id=\"T_64dc0_level0_row3\" class=\"row_heading level0 row3\" >48</th>\n",
              "      <td id=\"T_64dc0_row3_col0\" class=\"data row3 col0\" >0369</td>\n",
              "      <td id=\"T_64dc0_row3_col1\" class=\"data row3 col1\" >B</td>\n",
              "      <td id=\"T_64dc0_row3_col2\" class=\"data row3 col2\" >0.890000</td>\n",
              "      <td id=\"T_64dc0_row3_col3\" class=\"data row3 col3\" >train</td>\n",
              "      <td id=\"T_64dc0_row3_col4\" class=\"data row3 col4\" >003</td>\n",
              "      <td id=\"T_64dc0_row3_col5\" class=\"data row3 col5\" >audio/train/0369/B/0369_B_003.wav</td>\n",
              "      <td id=\"T_64dc0_row3_col6\" class=\"data row3 col6\" >0369_B_003</td>\n",
              "    </tr>\n",
              "    <tr>\n",
              "      <th id=\"T_64dc0_level0_row4\" class=\"row_heading level0 row4\" >49</th>\n",
              "      <td id=\"T_64dc0_row4_col0\" class=\"data row4 col0\" >0369</td>\n",
              "      <td id=\"T_64dc0_row4_col1\" class=\"data row4 col1\" >B</td>\n",
              "      <td id=\"T_64dc0_row4_col2\" class=\"data row4 col2\" >0.920000</td>\n",
              "      <td id=\"T_64dc0_row4_col3\" class=\"data row4 col3\" >train</td>\n",
              "      <td id=\"T_64dc0_row4_col4\" class=\"data row4 col4\" >004</td>\n",
              "      <td id=\"T_64dc0_row4_col5\" class=\"data row4 col5\" >audio/train/0369/B/0369_B_004.wav</td>\n",
              "      <td id=\"T_64dc0_row4_col6\" class=\"data row4 col6\" >0369_B_004</td>\n",
              "    </tr>\n",
              "  </tbody>\n",
              "</table>\n"
            ]
          },
          "metadata": {}
        },
        {
          "output_type": "display_data",
          "data": {
            "text/plain": [
              "           duration\n",
              "count  18190.000000\n",
              "mean       0.884927\n",
              "std        0.539273\n",
              "min        0.080000\n",
              "25%        0.580000\n",
              "50%        0.770000\n",
              "75%        1.050000\n",
              "max       10.340000"
            ],
            "text/html": [
              "\n",
              "  <div id=\"df-25b63ccb-9037-44ca-b826-31c379d4d33b\" class=\"colab-df-container\">\n",
              "    <div>\n",
              "<style scoped>\n",
              "    .dataframe tbody tr th:only-of-type {\n",
              "        vertical-align: middle;\n",
              "    }\n",
              "\n",
              "    .dataframe tbody tr th {\n",
              "        vertical-align: top;\n",
              "    }\n",
              "\n",
              "    .dataframe thead th {\n",
              "        text-align: right;\n",
              "    }\n",
              "</style>\n",
              "<table border=\"1\" class=\"dataframe\">\n",
              "  <thead>\n",
              "    <tr style=\"text-align: right;\">\n",
              "      <th></th>\n",
              "      <th>duration</th>\n",
              "    </tr>\n",
              "  </thead>\n",
              "  <tbody>\n",
              "    <tr>\n",
              "      <th>count</th>\n",
              "      <td>18190.000000</td>\n",
              "    </tr>\n",
              "    <tr>\n",
              "      <th>mean</th>\n",
              "      <td>0.884927</td>\n",
              "    </tr>\n",
              "    <tr>\n",
              "      <th>std</th>\n",
              "      <td>0.539273</td>\n",
              "    </tr>\n",
              "    <tr>\n",
              "      <th>min</th>\n",
              "      <td>0.080000</td>\n",
              "    </tr>\n",
              "    <tr>\n",
              "      <th>25%</th>\n",
              "      <td>0.580000</td>\n",
              "    </tr>\n",
              "    <tr>\n",
              "      <th>50%</th>\n",
              "      <td>0.770000</td>\n",
              "    </tr>\n",
              "    <tr>\n",
              "      <th>75%</th>\n",
              "      <td>1.050000</td>\n",
              "    </tr>\n",
              "    <tr>\n",
              "      <th>max</th>\n",
              "      <td>10.340000</td>\n",
              "    </tr>\n",
              "  </tbody>\n",
              "</table>\n",
              "</div>\n",
              "    <div class=\"colab-df-buttons\">\n",
              "\n",
              "  <div class=\"colab-df-container\">\n",
              "    <button class=\"colab-df-convert\" onclick=\"convertToInteractive('df-25b63ccb-9037-44ca-b826-31c379d4d33b')\"\n",
              "            title=\"Convert this dataframe to an interactive table.\"\n",
              "            style=\"display:none;\">\n",
              "\n",
              "  <svg xmlns=\"http://www.w3.org/2000/svg\" height=\"24px\" viewBox=\"0 -960 960 960\">\n",
              "    <path d=\"M120-120v-720h720v720H120Zm60-500h600v-160H180v160Zm220 220h160v-160H400v160Zm0 220h160v-160H400v160ZM180-400h160v-160H180v160Zm440 0h160v-160H620v160ZM180-180h160v-160H180v160Zm440 0h160v-160H620v160Z\"/>\n",
              "  </svg>\n",
              "    </button>\n",
              "\n",
              "  <style>\n",
              "    .colab-df-container {\n",
              "      display:flex;\n",
              "      gap: 12px;\n",
              "    }\n",
              "\n",
              "    .colab-df-convert {\n",
              "      background-color: #E8F0FE;\n",
              "      border: none;\n",
              "      border-radius: 50%;\n",
              "      cursor: pointer;\n",
              "      display: none;\n",
              "      fill: #1967D2;\n",
              "      height: 32px;\n",
              "      padding: 0 0 0 0;\n",
              "      width: 32px;\n",
              "    }\n",
              "\n",
              "    .colab-df-convert:hover {\n",
              "      background-color: #E2EBFA;\n",
              "      box-shadow: 0px 1px 2px rgba(60, 64, 67, 0.3), 0px 1px 3px 1px rgba(60, 64, 67, 0.15);\n",
              "      fill: #174EA6;\n",
              "    }\n",
              "\n",
              "    .colab-df-buttons div {\n",
              "      margin-bottom: 4px;\n",
              "    }\n",
              "\n",
              "    [theme=dark] .colab-df-convert {\n",
              "      background-color: #3B4455;\n",
              "      fill: #D2E3FC;\n",
              "    }\n",
              "\n",
              "    [theme=dark] .colab-df-convert:hover {\n",
              "      background-color: #434B5C;\n",
              "      box-shadow: 0px 1px 3px 1px rgba(0, 0, 0, 0.15);\n",
              "      filter: drop-shadow(0px 1px 2px rgba(0, 0, 0, 0.3));\n",
              "      fill: #FFFFFF;\n",
              "    }\n",
              "  </style>\n",
              "\n",
              "    <script>\n",
              "      const buttonEl =\n",
              "        document.querySelector('#df-25b63ccb-9037-44ca-b826-31c379d4d33b button.colab-df-convert');\n",
              "      buttonEl.style.display =\n",
              "        google.colab.kernel.accessAllowed ? 'block' : 'none';\n",
              "\n",
              "      async function convertToInteractive(key) {\n",
              "        const element = document.querySelector('#df-25b63ccb-9037-44ca-b826-31c379d4d33b');\n",
              "        const dataTable =\n",
              "          await google.colab.kernel.invokeFunction('convertToInteractive',\n",
              "                                                    [key], {});\n",
              "        if (!dataTable) return;\n",
              "\n",
              "        const docLinkHtml = 'Like what you see? Visit the ' +\n",
              "          '<a target=\"_blank\" href=https://colab.research.google.com/notebooks/data_table.ipynb>data table notebook</a>'\n",
              "          + ' to learn more about interactive tables.';\n",
              "        element.innerHTML = '';\n",
              "        dataTable['output_type'] = 'display_data';\n",
              "        await google.colab.output.renderOutput(dataTable, element);\n",
              "        const docLink = document.createElement('div');\n",
              "        docLink.innerHTML = docLinkHtml;\n",
              "        element.appendChild(docLink);\n",
              "      }\n",
              "    </script>\n",
              "  </div>\n",
              "\n",
              "\n",
              "<div id=\"df-f4ee44a0-562c-4c43-9895-e3496458f193\">\n",
              "  <button class=\"colab-df-quickchart\" onclick=\"quickchart('df-f4ee44a0-562c-4c43-9895-e3496458f193')\"\n",
              "            title=\"Suggest charts\"\n",
              "            style=\"display:none;\">\n",
              "\n",
              "<svg xmlns=\"http://www.w3.org/2000/svg\" height=\"24px\"viewBox=\"0 0 24 24\"\n",
              "     width=\"24px\">\n",
              "    <g>\n",
              "        <path d=\"M19 3H5c-1.1 0-2 .9-2 2v14c0 1.1.9 2 2 2h14c1.1 0 2-.9 2-2V5c0-1.1-.9-2-2-2zM9 17H7v-7h2v7zm4 0h-2V7h2v10zm4 0h-2v-4h2v4z\"/>\n",
              "    </g>\n",
              "</svg>\n",
              "  </button>\n",
              "\n",
              "<style>\n",
              "  .colab-df-quickchart {\n",
              "      --bg-color: #E8F0FE;\n",
              "      --fill-color: #1967D2;\n",
              "      --hover-bg-color: #E2EBFA;\n",
              "      --hover-fill-color: #174EA6;\n",
              "      --disabled-fill-color: #AAA;\n",
              "      --disabled-bg-color: #DDD;\n",
              "  }\n",
              "\n",
              "  [theme=dark] .colab-df-quickchart {\n",
              "      --bg-color: #3B4455;\n",
              "      --fill-color: #D2E3FC;\n",
              "      --hover-bg-color: #434B5C;\n",
              "      --hover-fill-color: #FFFFFF;\n",
              "      --disabled-bg-color: #3B4455;\n",
              "      --disabled-fill-color: #666;\n",
              "  }\n",
              "\n",
              "  .colab-df-quickchart {\n",
              "    background-color: var(--bg-color);\n",
              "    border: none;\n",
              "    border-radius: 50%;\n",
              "    cursor: pointer;\n",
              "    display: none;\n",
              "    fill: var(--fill-color);\n",
              "    height: 32px;\n",
              "    padding: 0;\n",
              "    width: 32px;\n",
              "  }\n",
              "\n",
              "  .colab-df-quickchart:hover {\n",
              "    background-color: var(--hover-bg-color);\n",
              "    box-shadow: 0 1px 2px rgba(60, 64, 67, 0.3), 0 1px 3px 1px rgba(60, 64, 67, 0.15);\n",
              "    fill: var(--button-hover-fill-color);\n",
              "  }\n",
              "\n",
              "  .colab-df-quickchart-complete:disabled,\n",
              "  .colab-df-quickchart-complete:disabled:hover {\n",
              "    background-color: var(--disabled-bg-color);\n",
              "    fill: var(--disabled-fill-color);\n",
              "    box-shadow: none;\n",
              "  }\n",
              "\n",
              "  .colab-df-spinner {\n",
              "    border: 2px solid var(--fill-color);\n",
              "    border-color: transparent;\n",
              "    border-bottom-color: var(--fill-color);\n",
              "    animation:\n",
              "      spin 1s steps(1) infinite;\n",
              "  }\n",
              "\n",
              "  @keyframes spin {\n",
              "    0% {\n",
              "      border-color: transparent;\n",
              "      border-bottom-color: var(--fill-color);\n",
              "      border-left-color: var(--fill-color);\n",
              "    }\n",
              "    20% {\n",
              "      border-color: transparent;\n",
              "      border-left-color: var(--fill-color);\n",
              "      border-top-color: var(--fill-color);\n",
              "    }\n",
              "    30% {\n",
              "      border-color: transparent;\n",
              "      border-left-color: var(--fill-color);\n",
              "      border-top-color: var(--fill-color);\n",
              "      border-right-color: var(--fill-color);\n",
              "    }\n",
              "    40% {\n",
              "      border-color: transparent;\n",
              "      border-right-color: var(--fill-color);\n",
              "      border-top-color: var(--fill-color);\n",
              "    }\n",
              "    60% {\n",
              "      border-color: transparent;\n",
              "      border-right-color: var(--fill-color);\n",
              "    }\n",
              "    80% {\n",
              "      border-color: transparent;\n",
              "      border-right-color: var(--fill-color);\n",
              "      border-bottom-color: var(--fill-color);\n",
              "    }\n",
              "    90% {\n",
              "      border-color: transparent;\n",
              "      border-bottom-color: var(--fill-color);\n",
              "    }\n",
              "  }\n",
              "</style>\n",
              "\n",
              "  <script>\n",
              "    async function quickchart(key) {\n",
              "      const quickchartButtonEl =\n",
              "        document.querySelector('#' + key + ' button');\n",
              "      quickchartButtonEl.disabled = true;  // To prevent multiple clicks.\n",
              "      quickchartButtonEl.classList.add('colab-df-spinner');\n",
              "      try {\n",
              "        const charts = await google.colab.kernel.invokeFunction(\n",
              "            'suggestCharts', [key], {});\n",
              "      } catch (error) {\n",
              "        console.error('Error during call to suggestCharts:', error);\n",
              "      }\n",
              "      quickchartButtonEl.classList.remove('colab-df-spinner');\n",
              "      quickchartButtonEl.classList.add('colab-df-quickchart-complete');\n",
              "    }\n",
              "    (() => {\n",
              "      let quickchartButtonEl =\n",
              "        document.querySelector('#df-f4ee44a0-562c-4c43-9895-e3496458f193 button');\n",
              "      quickchartButtonEl.style.display =\n",
              "        google.colab.kernel.accessAllowed ? 'block' : 'none';\n",
              "    })();\n",
              "  </script>\n",
              "</div>\n",
              "\n",
              "    </div>\n",
              "  </div>\n"
            ],
            "application/vnd.google.colaboratory.intrinsic+json": {
              "type": "dataframe",
              "summary": "{\n  \"name\": \"display(train_metadata\",\n  \"rows\": 8,\n  \"fields\": [\n    {\n      \"column\": \"duration\",\n      \"properties\": {\n        \"dtype\": \"number\",\n        \"std\": 6430.417634322314,\n        \"min\": 0.08,\n        \"max\": 18190.0,\n        \"num_unique_values\": 8,\n        \"samples\": [\n          0.8849274326553052,\n          0.77,\n          18190.0\n        ],\n        \"semantic_type\": \"\",\n        \"description\": \"\"\n      }\n    }\n  ]\n}"
            }
          },
          "metadata": {}
        }
      ],
      "source": [
        "# read metadata\n",
        "metadata = pd.read_csv(\n",
        "    f\"{dataset_path}/metadata.csv\", dtype={\"baby_id\": str, \"chronological_index\": str}\n",
        ")\n",
        "train_metadata = metadata.loc[metadata[\"split\"] == \"train\"].copy()\n",
        "display(\n",
        "    train_metadata.head()\n",
        "    .style.set_caption(\"train_metadata\")\n",
        "    .set_table_styles([{\"selector\": \"caption\", \"props\": [(\"font-size\", \"20px\")]}])\n",
        ")\n",
        "display(train_metadata.describe())"
      ]
    },
    {
      "cell_type": "markdown",
      "metadata": {
        "id": "nX6q3zCxtaQa"
      },
      "source": [
        "### Concatenate cry sounds\n",
        "\n",
        "We are given short cry sounds for each baby. Here we simply concatenate them."
      ]
    },
    {
      "cell_type": "code",
      "execution_count": null,
      "metadata": {
        "id": "bUTe9QqwRqE-"
      },
      "outputs": [],
      "source": [
        "# read the segments\n",
        "# read the segments\n",
        "train_metadata[\"cry\"] = train_metadata.apply(\n",
        "    lambda row: read_audio(os.path.join(dataset_path,row[\"file_name\"])).numpy(), axis=1\n",
        ")\n",
        "# concatenate all segments for each (baby_id, period) group\n",
        "manifest_df = pd.DataFrame(\n",
        "    train_metadata.groupby([\"baby_id\", \"period\"])[\"cry\"].agg(lambda x: np.concatenate(x.values)),\n",
        "    columns=[\"cry\"],\n",
        ").reset_index()\n",
        "# all files have 16000 sampling rate\n",
        "manifest_df[\"duration\"] = manifest_df[\"cry\"].apply(len) / 16000\n",
        "pathlib.Path(f\"{dataset_path}/concatenated_audio_train\").mkdir(parents=True,exist_ok=True)\n",
        "manifest_df[\"file_path\"] = manifest_df.apply(\n",
        "    lambda row: f\"{dataset_path}/concatenated_audio_train/{row['baby_id']}_{row['period']}.wav\",\n",
        "    axis=1,\n",
        ")\n",
        "manifest_df.apply(\n",
        "    lambda row: write_audio(\n",
        "        filepath=f'{row[\"file_path\"]}', audio=torch.tensor(row[\"cry\"]), samplerate=16000\n",
        "    ),\n",
        "    axis=1,\n",
        ")\n",
        "manifest_df = manifest_df.drop(columns=[\"cry\"])\n",
        "display(manifest_df)\n",
        "ax = sns.histplot(manifest_df, x=\"duration\")\n",
        "ax.set_title(\"Histogram of Concatenated Cry Sound Lengths\")"
      ]
    },
    {
      "cell_type": "markdown",
      "metadata": {
        "id": "TQ2y68HqK0rR"
      },
      "source": [
        "During training, we will extract random cuts of 3-5 seconds from concatenated audio"
      ]
    },
    {
      "cell_type": "code",
      "execution_count": 8,
      "metadata": {
        "id": "8fqkEktdRRXf",
        "colab": {
          "base_uri": "https://localhost:8080/",
          "height": 211
        },
        "outputId": "392db1ac-e1b8-4817-d499-ebcc81e7dc05"
      },
      "outputs": [
        {
          "output_type": "error",
          "ename": "NameError",
          "evalue": "name 'manifest_df' is not defined",
          "traceback": [
            "\u001b[0;31m---------------------------------------------------------------------------\u001b[0m",
            "\u001b[0;31mNameError\u001b[0m                                 Traceback (most recent call last)",
            "\u001b[0;32m<ipython-input-8-0038efcbdd08>\u001b[0m in \u001b[0;36m<cell line: 0>\u001b[0;34m()\u001b[0m\n\u001b[1;32m     18\u001b[0m \u001b[0;34m\u001b[0m\u001b[0m\n\u001b[1;32m     19\u001b[0m \u001b[0mcut_length_interval\u001b[0m \u001b[0;34m=\u001b[0m \u001b[0;34m(\u001b[0m\u001b[0;36m3\u001b[0m\u001b[0;34m,\u001b[0m \u001b[0;36m5\u001b[0m\u001b[0;34m)\u001b[0m\u001b[0;34m\u001b[0m\u001b[0;34m\u001b[0m\u001b[0m\n\u001b[0;32m---> 20\u001b[0;31m manifest_df[\"cut_length_interval_in_frames\"] = manifest_df.apply(\n\u001b[0m\u001b[1;32m     21\u001b[0m     \u001b[0;32mlambda\u001b[0m \u001b[0mrow\u001b[0m\u001b[0;34m:\u001b[0m \u001b[0mcreate_cut_length_interval\u001b[0m\u001b[0;34m(\u001b[0m\u001b[0mrow\u001b[0m\u001b[0;34m,\u001b[0m \u001b[0mcut_length_interval\u001b[0m\u001b[0;34m=\u001b[0m\u001b[0mcut_length_interval\u001b[0m\u001b[0;34m)\u001b[0m\u001b[0;34m,\u001b[0m \u001b[0maxis\u001b[0m\u001b[0;34m=\u001b[0m\u001b[0;36m1\u001b[0m\u001b[0;34m\u001b[0m\u001b[0;34m\u001b[0m\u001b[0m\n\u001b[1;32m     22\u001b[0m )\n",
            "\u001b[0;31mNameError\u001b[0m: name 'manifest_df' is not defined"
          ]
        }
      ],
      "source": [
        "def create_cut_length_interval(row, cut_length_interval):\n",
        "    \"\"\"cut_length_interval is a tuple indicating the range of lengths we want our chunks to be.\n",
        "    this function computes the valid range of chunk lengths for each audio file\n",
        "    \"\"\"\n",
        "    # the lengths are in seconds, convert them to frames\n",
        "    cut_length_interval = [round(length * 16000) for length in cut_length_interval]\n",
        "    cry_length = round(row[\"duration\"] * 16000)\n",
        "    # make the interval valid for the specific sound file\n",
        "    min_cut_length, max_cut_length = cut_length_interval\n",
        "    # if min_cut_length is greater than length of cry, don't cut\n",
        "    if min_cut_length >= cry_length:\n",
        "        cut_length_interval = (cry_length, cry_length)\n",
        "    # if max_cut_length is greater than length of cry, take a cut of length between min_cut_length and full length of cry\n",
        "    elif max_cut_length >= cry_length:\n",
        "        cut_length_interval = (min_cut_length, cry_length)\n",
        "    return cut_length_interval\n",
        "\n",
        "\n",
        "cut_length_interval = (3, 5)\n",
        "manifest_df[\"cut_length_interval_in_frames\"] = manifest_df.apply(\n",
        "    lambda row: create_cut_length_interval(row, cut_length_interval=cut_length_interval), axis=1\n",
        ")"
      ]
    },
    {
      "cell_type": "code",
      "source": [
        "display(manifest_df)"
      ],
      "metadata": {
        "id": "HaauIwBgoAKF"
      },
      "execution_count": null,
      "outputs": []
    },
    {
      "cell_type": "markdown",
      "metadata": {
        "id": "VS6R0uA2tpAJ"
      },
      "source": [
        "### Split into train and val\n",
        "\n",
        "For training a classfier, we can split the data into train/val in any way, as long as val does not contain new classes\n",
        "\n",
        "One way to split is to split by period: train on birth recordings and validate on discharge"
      ]
    },
    {
      "cell_type": "code",
      "execution_count": null,
      "metadata": {
        "id": "KceQZp_pga34"
      },
      "outputs": [],
      "source": [
        "# we can train on any subset of babies (e.g. to reduce the number of classes, only keep babies with long enough cries, etc)\n",
        "def get_babies_with_both_recordings(manifest_df):\n",
        "    count_of_periods_per_baby = manifest_df.groupby(\"baby_id\")[\"period\"].count()\n",
        "    baby_ids_with_recording_from_both_periods = count_of_periods_per_baby[\n",
        "        count_of_periods_per_baby == 2\n",
        "    ].index\n",
        "    return baby_ids_with_recording_from_both_periods\n",
        "\n",
        "\n",
        "# def get_babies_with_a_birth_recording(manifest_df):\n",
        "#   bool_series = manifest_df.groupby('baby_id')['period'].unique().apply(set(['B']).issubset)\n",
        "#   baby_ids_with_a_recordings_from_birth = bool_series[bool_series].index\n",
        "#   return baby_ids_with_a_recordings_from_birth\n",
        "\n",
        "\n",
        "def split_by_period(row, included_baby_ids):\n",
        "    if row[\"baby_id\"] in included_baby_ids:\n",
        "        if row[\"period\"] == \"B\":\n",
        "            return \"train\"\n",
        "        else:\n",
        "            return \"val\"\n",
        "    else:\n",
        "        return \"not_used\"\n",
        "\n",
        "\n",
        "babies_with_both_recordings = get_babies_with_both_recordings(manifest_df)\n",
        "manifest_df[\"split\"] = manifest_df.apply(\n",
        "    lambda row: split_by_period(row, included_baby_ids=babies_with_both_recordings), axis=1\n",
        ")\n",
        "\n",
        "# each instance will be identified with a unique id\n",
        "manifest_df[\"id\"] = manifest_df[\"baby_id\"] + \"_\" + manifest_df[\"period\"]\n",
        "display(manifest_df)\n",
        "display(\n",
        "    manifest_df[\"split\"]\n",
        "    .value_counts()\n",
        "    .rename(\"use_babies_with_both_recordings_and_split_by_period\")\n",
        ")\n",
        "manifest_df.set_index(\"id\").to_json(\"manifest.json\", orient=\"index\")"
      ]
    },
    {
      "cell_type": "markdown",
      "metadata": {
        "id": "N2X-8Zs2-Mhm"
      },
      "source": [
        "### Create dynamic datasets\n",
        "\n",
        "See SpeechBrain documentation to understand details"
      ]
    },
    {
      "cell_type": "code",
      "execution_count": null,
      "metadata": {
        "id": "1NxmeLy_fj99"
      },
      "outputs": [],
      "source": [
        "# create a dynamic dataset from the csv, only used to create train and val datasets\n",
        "dataset = DynamicItemDataset.from_json(\"manifest.json\")\n",
        "baby_id_encoder = CategoricalEncoder()\n",
        "datasets = {}\n",
        "# create a dataset for each split\n",
        "for split in [\"train\", \"val\"]:\n",
        "    # retrieve the desired slice (train or val) and sort by length to minimize amount of padding\n",
        "    datasets[split] = dataset.filtered_sorted(\n",
        "        key_test={\"split\": lambda value: value == split}, sort_key=\"duration\"\n",
        "    )  # select_n=100\n",
        "    # create the baby_id_encoded field\n",
        "    datasets[split].add_dynamic_item(\n",
        "        baby_id_encoder.encode_label_torch, takes=\"baby_id\", provides=\"baby_id_encoded\"\n",
        "    )\n",
        "    # set visible fields\n",
        "    datasets[split].set_output_keys([\"id\", \"baby_id\", \"baby_id_encoded\", \"sig\"])\n",
        "\n",
        "\n",
        "# create the signal field for the val split (no chunking)\n",
        "datasets[\"val\"].add_dynamic_item(sb.dataio.dataio.read_audio, takes=\"file_path\", provides=\"sig\")\n",
        "\n",
        "# the label encoder will map the baby_ids to target classes 0, 1, 2, ...\n",
        "# only use the classes which appear in `train`,\n",
        "baby_id_encoder.update_from_didataset(datasets[\"train\"], \"baby_id\")\n",
        "\n",
        "\n",
        "# for reading the train split, we add chunking\n",
        "def audio_pipeline(file_path, cut_length_interval_in_frames):\n",
        "    \"\"\"Load the signal, and pass it and its length to the corruption class.\n",
        "    This is done on the CPU in the `collate_fn`.\"\"\"\n",
        "    sig = sb.dataio.dataio.read_audio(file_path)\n",
        "    if cut_length_interval_in_frames is not None:\n",
        "        cut_length = random.randint(*cut_length_interval_in_frames)\n",
        "        # pick the start index of the cut\n",
        "        left_index = random.randint(0, len(sig) - cut_length)\n",
        "        # cut the signal\n",
        "        sig = sig[left_index : left_index + cut_length]\n",
        "    return sig\n",
        "\n",
        "\n",
        "# create the signal field (with chunking)\n",
        "datasets[\"train\"].add_dynamic_item(\n",
        "    audio_pipeline, takes=[\"file_path\", \"cut_length_interval_in_frames\"], provides=\"sig\"\n",
        ")\n",
        "\n",
        "display(datasets[\"train\"][0])"
      ]
    },
    {
      "cell_type": "markdown",
      "metadata": {
        "id": "bbwH78P8_TOd"
      },
      "source": [
        "### Fine-tune the classifier\n",
        "\n",
        "Here we use a very basic example that just trains for 5 epochs"
      ]
    },
    {
      "cell_type": "code",
      "execution_count": null,
      "metadata": {
        "id": "ixojL5uH5y1V"
      },
      "outputs": [],
      "source": [
        "config_filename = \"hparams/ecapa_voxceleb_basic.yaml\"\n",
        "overrides = {\n",
        "    \"seed\": 3011,\n",
        "    \"n_classes\": len(baby_id_encoder),\n",
        "    \"experiment_name\": \"ecapa_voxceleb_ft_basic\",\n",
        "    \"bs\": 32,\n",
        "    \"n_epochs\": 100,\n",
        "}\n",
        "device = \"cuda\"\n",
        "run_opts = {\"device\": device}\n",
        "###########################################\n",
        "# Load hyperparameters file with command-line overrides.\n",
        "with open(config_filename) as fin:\n",
        "    hparams = load_hyperpyyaml(fin, overrides)\n",
        "# Create experiment directory\n",
        "sb.create_experiment_directory(\n",
        "    experiment_directory=hparams[\"experiment_dir\"],\n",
        "    hyperparams_to_save=config_filename,\n",
        "    overrides=overrides,\n",
        ")\n",
        "\n",
        "# Initialize the Brain object to prepare for training.\n",
        "crybrain = CryBrain(\n",
        "    modules=hparams[\"modules\"],\n",
        "    opt_class=hparams[\"opt_class\"],\n",
        "    hparams=hparams,\n",
        "    run_opts=run_opts,\n",
        "    checkpointer=hparams[\"checkpointer\"],\n",
        ")\n",
        "\n",
        "# if a pretrained model is specified, load it\n",
        "if \"pretrained_embedding_model\" in hparams:\n",
        "    sb.utils.distributed.run_on_main(hparams[\"pretrained_embedding_model\"].collect_files)\n",
        "    hparams[\"pretrained_embedding_model\"].load_collected()\n",
        "\n",
        "crybrain.fit(\n",
        "    epoch_counter=crybrain.hparams.epoch_counter,\n",
        "    train_set=datasets[\"train\"],\n",
        "    valid_set=datasets[\"val\"],\n",
        "    train_loader_kwargs=hparams[\"train_dataloader_options\"],\n",
        "    valid_loader_kwargs=hparams[\"val_dataloader_options\"],\n",
        ")"
      ]
    },
    {
      "cell_type": "markdown",
      "metadata": {
        "id": "cVDparawc1YF"
      },
      "source": [
        "You can now use embedding_model.ckpt from this recipe and use it in evaluate.ipynb to verify pairs of cries and submit your results!"
      ]
    }
  ],
  "metadata": {
    "accelerator": "GPU",
    "colab": {
      "gpuType": "T4",
      "provenance": []
    },
    "kernelspec": {
      "display_name": "Python 3",
      "name": "python3"
    },
    "language_info": {
      "codemirror_mode": {
        "name": "ipython",
        "version": 3
      },
      "file_extension": ".py",
      "mimetype": "text/x-python",
      "name": "python",
      "nbconvert_exporter": "python",
      "pygments_lexer": "ipython3",
      "version": "3.8.16"
    }
  },
  "nbformat": 4,
  "nbformat_minor": 0
}