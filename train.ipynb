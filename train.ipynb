{
  "cells": [
    {
      "cell_type": "markdown",
      "metadata": {
        "id": "fvP3aM0oMKvT"
      },
      "source": [
        "# Fine-tuning ECAPA-TDNN on  [CryCeleb2023](https://huggingface.co/spaces/competitions/CryCeleb2023) using [SpeechBrain](https://speechbrain.readthedocs.io)\n",
        "\n",
        "This notebook should help you get started training your own models for CryCeleb2023 challenge.\n",
        "\n",
        "Note that it is provides basic example for simplicity and speed.\n",
        "\n",
        "Author: David Budaghyan (Ubenwa)\n"
      ]
    },
    {
      "cell_type": "markdown",
      "metadata": {
        "id": "xLoVtmTDGVby"
      },
      "source": [
        "### Imports"
      ]
    },
    {
      "cell_type": "code",
      "execution_count": 1,
      "metadata": {
        "colab": {
          "base_uri": "https://localhost:8080/"
        },
        "id": "IpwymCt0K0rO",
        "outputId": "89184394-1be9-4e7d-ffca-38f8b0b499a7"
      },
      "outputs": [
        {
          "output_type": "stream",
          "name": "stdout",
          "text": [
            "Collecting speechbrain\n",
            "  Downloading speechbrain-1.0.2-py3-none-any.whl.metadata (23 kB)\n",
            "Collecting hyperpyyaml (from speechbrain)\n",
            "  Downloading HyperPyYAML-1.2.2-py3-none-any.whl.metadata (7.6 kB)\n",
            "Requirement already satisfied: joblib in /usr/local/lib/python3.11/dist-packages (from speechbrain) (1.4.2)\n",
            "Requirement already satisfied: numpy in /usr/local/lib/python3.11/dist-packages (from speechbrain) (1.26.4)\n",
            "Requirement already satisfied: packaging in /usr/local/lib/python3.11/dist-packages (from speechbrain) (24.2)\n",
            "Requirement already satisfied: scipy in /usr/local/lib/python3.11/dist-packages (from speechbrain) (1.13.1)\n",
            "Requirement already satisfied: sentencepiece in /usr/local/lib/python3.11/dist-packages (from speechbrain) (0.2.0)\n",
            "Requirement already satisfied: torch>=1.9 in /usr/local/lib/python3.11/dist-packages (from speechbrain) (2.5.1+cu124)\n",
            "Requirement already satisfied: torchaudio in /usr/local/lib/python3.11/dist-packages (from speechbrain) (2.5.1+cu124)\n",
            "Requirement already satisfied: tqdm in /usr/local/lib/python3.11/dist-packages (from speechbrain) (4.67.1)\n",
            "Requirement already satisfied: huggingface-hub in /usr/local/lib/python3.11/dist-packages (from speechbrain) (0.28.1)\n",
            "Requirement already satisfied: filelock in /usr/local/lib/python3.11/dist-packages (from torch>=1.9->speechbrain) (3.17.0)\n",
            "Requirement already satisfied: typing-extensions>=4.8.0 in /usr/local/lib/python3.11/dist-packages (from torch>=1.9->speechbrain) (4.12.2)\n",
            "Requirement already satisfied: networkx in /usr/local/lib/python3.11/dist-packages (from torch>=1.9->speechbrain) (3.4.2)\n",
            "Requirement already satisfied: jinja2 in /usr/local/lib/python3.11/dist-packages (from torch>=1.9->speechbrain) (3.1.5)\n",
            "Requirement already satisfied: fsspec in /usr/local/lib/python3.11/dist-packages (from torch>=1.9->speechbrain) (2024.10.0)\n",
            "Collecting nvidia-cuda-nvrtc-cu12==12.4.127 (from torch>=1.9->speechbrain)\n",
            "  Downloading nvidia_cuda_nvrtc_cu12-12.4.127-py3-none-manylinux2014_x86_64.whl.metadata (1.5 kB)\n",
            "Collecting nvidia-cuda-runtime-cu12==12.4.127 (from torch>=1.9->speechbrain)\n",
            "  Downloading nvidia_cuda_runtime_cu12-12.4.127-py3-none-manylinux2014_x86_64.whl.metadata (1.5 kB)\n",
            "Collecting nvidia-cuda-cupti-cu12==12.4.127 (from torch>=1.9->speechbrain)\n",
            "  Downloading nvidia_cuda_cupti_cu12-12.4.127-py3-none-manylinux2014_x86_64.whl.metadata (1.6 kB)\n",
            "Collecting nvidia-cudnn-cu12==9.1.0.70 (from torch>=1.9->speechbrain)\n",
            "  Downloading nvidia_cudnn_cu12-9.1.0.70-py3-none-manylinux2014_x86_64.whl.metadata (1.6 kB)\n",
            "Collecting nvidia-cublas-cu12==12.4.5.8 (from torch>=1.9->speechbrain)\n",
            "  Downloading nvidia_cublas_cu12-12.4.5.8-py3-none-manylinux2014_x86_64.whl.metadata (1.5 kB)\n",
            "Collecting nvidia-cufft-cu12==11.2.1.3 (from torch>=1.9->speechbrain)\n",
            "  Downloading nvidia_cufft_cu12-11.2.1.3-py3-none-manylinux2014_x86_64.whl.metadata (1.5 kB)\n",
            "Collecting nvidia-curand-cu12==10.3.5.147 (from torch>=1.9->speechbrain)\n",
            "  Downloading nvidia_curand_cu12-10.3.5.147-py3-none-manylinux2014_x86_64.whl.metadata (1.5 kB)\n",
            "Collecting nvidia-cusolver-cu12==11.6.1.9 (from torch>=1.9->speechbrain)\n",
            "  Downloading nvidia_cusolver_cu12-11.6.1.9-py3-none-manylinux2014_x86_64.whl.metadata (1.6 kB)\n",
            "Collecting nvidia-cusparse-cu12==12.3.1.170 (from torch>=1.9->speechbrain)\n",
            "  Downloading nvidia_cusparse_cu12-12.3.1.170-py3-none-manylinux2014_x86_64.whl.metadata (1.6 kB)\n",
            "Requirement already satisfied: nvidia-nccl-cu12==2.21.5 in /usr/local/lib/python3.11/dist-packages (from torch>=1.9->speechbrain) (2.21.5)\n",
            "Requirement already satisfied: nvidia-nvtx-cu12==12.4.127 in /usr/local/lib/python3.11/dist-packages (from torch>=1.9->speechbrain) (12.4.127)\n",
            "Collecting nvidia-nvjitlink-cu12==12.4.127 (from torch>=1.9->speechbrain)\n",
            "  Downloading nvidia_nvjitlink_cu12-12.4.127-py3-none-manylinux2014_x86_64.whl.metadata (1.5 kB)\n",
            "Requirement already satisfied: triton==3.1.0 in /usr/local/lib/python3.11/dist-packages (from torch>=1.9->speechbrain) (3.1.0)\n",
            "Requirement already satisfied: sympy==1.13.1 in /usr/local/lib/python3.11/dist-packages (from torch>=1.9->speechbrain) (1.13.1)\n",
            "Requirement already satisfied: mpmath<1.4,>=1.1.0 in /usr/local/lib/python3.11/dist-packages (from sympy==1.13.1->torch>=1.9->speechbrain) (1.3.0)\n",
            "Requirement already satisfied: pyyaml>=5.1 in /usr/local/lib/python3.11/dist-packages (from huggingface-hub->speechbrain) (6.0.2)\n",
            "Requirement already satisfied: requests in /usr/local/lib/python3.11/dist-packages (from huggingface-hub->speechbrain) (2.32.3)\n",
            "Collecting ruamel.yaml>=0.17.28 (from hyperpyyaml->speechbrain)\n",
            "  Downloading ruamel.yaml-0.18.10-py3-none-any.whl.metadata (23 kB)\n",
            "Collecting ruamel.yaml.clib>=0.2.7 (from ruamel.yaml>=0.17.28->hyperpyyaml->speechbrain)\n",
            "  Downloading ruamel.yaml.clib-0.2.12-cp311-cp311-manylinux_2_17_x86_64.manylinux2014_x86_64.whl.metadata (2.7 kB)\n",
            "Requirement already satisfied: MarkupSafe>=2.0 in /usr/local/lib/python3.11/dist-packages (from jinja2->torch>=1.9->speechbrain) (3.0.2)\n",
            "Requirement already satisfied: charset-normalizer<4,>=2 in /usr/local/lib/python3.11/dist-packages (from requests->huggingface-hub->speechbrain) (3.4.1)\n",
            "Requirement already satisfied: idna<4,>=2.5 in /usr/local/lib/python3.11/dist-packages (from requests->huggingface-hub->speechbrain) (3.10)\n",
            "Requirement already satisfied: urllib3<3,>=1.21.1 in /usr/local/lib/python3.11/dist-packages (from requests->huggingface-hub->speechbrain) (2.3.0)\n",
            "Requirement already satisfied: certifi>=2017.4.17 in /usr/local/lib/python3.11/dist-packages (from requests->huggingface-hub->speechbrain) (2025.1.31)\n",
            "Downloading speechbrain-1.0.2-py3-none-any.whl (824 kB)\n",
            "\u001b[2K   \u001b[90m━━━━━━━━━━━━━━━━━━━━━━━━━━━━━━━━━━━━━━━━\u001b[0m \u001b[32m824.8/824.8 kB\u001b[0m \u001b[31m21.7 MB/s\u001b[0m eta \u001b[36m0:00:00\u001b[0m\n",
            "\u001b[?25hDownloading nvidia_cublas_cu12-12.4.5.8-py3-none-manylinux2014_x86_64.whl (363.4 MB)\n",
            "\u001b[2K   \u001b[90m━━━━━━━━━━━━━━━━━━━━━━━━━━━━━━━━━━━━━━━━\u001b[0m \u001b[32m363.4/363.4 MB\u001b[0m \u001b[31m4.1 MB/s\u001b[0m eta \u001b[36m0:00:00\u001b[0m\n",
            "\u001b[?25hDownloading nvidia_cuda_cupti_cu12-12.4.127-py3-none-manylinux2014_x86_64.whl (13.8 MB)\n",
            "\u001b[2K   \u001b[90m━━━━━━━━━━━━━━━━━━━━━━━━━━━━━━━━━━━━━━━━\u001b[0m \u001b[32m13.8/13.8 MB\u001b[0m \u001b[31m81.6 MB/s\u001b[0m eta \u001b[36m0:00:00\u001b[0m\n",
            "\u001b[?25hDownloading nvidia_cuda_nvrtc_cu12-12.4.127-py3-none-manylinux2014_x86_64.whl (24.6 MB)\n",
            "\u001b[2K   \u001b[90m━━━━━━━━━━━━━━━━━━━━━━━━━━━━━━━━━━━━━━━━\u001b[0m \u001b[32m24.6/24.6 MB\u001b[0m \u001b[31m66.7 MB/s\u001b[0m eta \u001b[36m0:00:00\u001b[0m\n",
            "\u001b[?25hDownloading nvidia_cuda_runtime_cu12-12.4.127-py3-none-manylinux2014_x86_64.whl (883 kB)\n",
            "\u001b[2K   \u001b[90m━━━━━━━━━━━━━━━━━━━━━━━━━━━━━━━━━━━━━━━━\u001b[0m \u001b[32m883.7/883.7 kB\u001b[0m \u001b[31m47.4 MB/s\u001b[0m eta \u001b[36m0:00:00\u001b[0m\n",
            "\u001b[?25hDownloading nvidia_cudnn_cu12-9.1.0.70-py3-none-manylinux2014_x86_64.whl (664.8 MB)\n",
            "\u001b[2K   \u001b[90m━━━━━━━━━━━━━━━━━━━━━━━━━━━━━━━━━━━━━━━━\u001b[0m \u001b[32m664.8/664.8 MB\u001b[0m \u001b[31m2.8 MB/s\u001b[0m eta \u001b[36m0:00:00\u001b[0m\n",
            "\u001b[?25hDownloading nvidia_cufft_cu12-11.2.1.3-py3-none-manylinux2014_x86_64.whl (211.5 MB)\n",
            "\u001b[2K   \u001b[90m━━━━━━━━━━━━━━━━━━━━━━━━━━━━━━━━━━━━━━━━\u001b[0m \u001b[32m211.5/211.5 MB\u001b[0m \u001b[31m5.9 MB/s\u001b[0m eta \u001b[36m0:00:00\u001b[0m\n",
            "\u001b[?25hDownloading nvidia_curand_cu12-10.3.5.147-py3-none-manylinux2014_x86_64.whl (56.3 MB)\n",
            "\u001b[2K   \u001b[90m━━━━━━━━━━━━━━━━━━━━━━━━━━━━━━━━━━━━━━━━\u001b[0m \u001b[32m56.3/56.3 MB\u001b[0m \u001b[31m15.1 MB/s\u001b[0m eta \u001b[36m0:00:00\u001b[0m\n",
            "\u001b[?25hDownloading nvidia_cusolver_cu12-11.6.1.9-py3-none-manylinux2014_x86_64.whl (127.9 MB)\n",
            "\u001b[2K   \u001b[90m━━━━━━━━━━━━━━━━━━━━━━━━━━━━━━━━━━━━━━━━\u001b[0m \u001b[32m127.9/127.9 MB\u001b[0m \u001b[31m7.7 MB/s\u001b[0m eta \u001b[36m0:00:00\u001b[0m\n",
            "\u001b[?25hDownloading nvidia_cusparse_cu12-12.3.1.170-py3-none-manylinux2014_x86_64.whl (207.5 MB)\n",
            "\u001b[2K   \u001b[90m━━━━━━━━━━━━━━━━━━━━━━━━━━━━━━━━━━━━━━━━\u001b[0m \u001b[32m207.5/207.5 MB\u001b[0m \u001b[31m6.3 MB/s\u001b[0m eta \u001b[36m0:00:00\u001b[0m\n",
            "\u001b[?25hDownloading nvidia_nvjitlink_cu12-12.4.127-py3-none-manylinux2014_x86_64.whl (21.1 MB)\n",
            "\u001b[2K   \u001b[90m━━━━━━━━━━━━━━━━━━━━━━━━━━━━━━━━━━━━━━━━\u001b[0m \u001b[32m21.1/21.1 MB\u001b[0m \u001b[31m80.6 MB/s\u001b[0m eta \u001b[36m0:00:00\u001b[0m\n",
            "\u001b[?25hDownloading HyperPyYAML-1.2.2-py3-none-any.whl (16 kB)\n",
            "Downloading ruamel.yaml-0.18.10-py3-none-any.whl (117 kB)\n",
            "\u001b[2K   \u001b[90m━━━━━━━━━━━━━━━━━━━━━━━━━━━━━━━━━━━━━━━━\u001b[0m \u001b[32m117.7/117.7 kB\u001b[0m \u001b[31m6.9 MB/s\u001b[0m eta \u001b[36m0:00:00\u001b[0m\n",
            "\u001b[?25hDownloading ruamel.yaml.clib-0.2.12-cp311-cp311-manylinux_2_17_x86_64.manylinux2014_x86_64.whl (739 kB)\n",
            "\u001b[2K   \u001b[90m━━━━━━━━━━━━━━━━━━━━━━━━━━━━━━━━━━━━━━━━\u001b[0m \u001b[32m739.1/739.1 kB\u001b[0m \u001b[31m42.6 MB/s\u001b[0m eta \u001b[36m0:00:00\u001b[0m\n",
            "\u001b[?25hInstalling collected packages: ruamel.yaml.clib, nvidia-nvjitlink-cu12, nvidia-curand-cu12, nvidia-cufft-cu12, nvidia-cuda-runtime-cu12, nvidia-cuda-nvrtc-cu12, nvidia-cuda-cupti-cu12, nvidia-cublas-cu12, ruamel.yaml, nvidia-cusparse-cu12, nvidia-cudnn-cu12, nvidia-cusolver-cu12, hyperpyyaml, speechbrain\n",
            "  Attempting uninstall: nvidia-nvjitlink-cu12\n",
            "    Found existing installation: nvidia-nvjitlink-cu12 12.5.82\n",
            "    Uninstalling nvidia-nvjitlink-cu12-12.5.82:\n",
            "      Successfully uninstalled nvidia-nvjitlink-cu12-12.5.82\n",
            "  Attempting uninstall: nvidia-curand-cu12\n",
            "    Found existing installation: nvidia-curand-cu12 10.3.6.82\n",
            "    Uninstalling nvidia-curand-cu12-10.3.6.82:\n",
            "      Successfully uninstalled nvidia-curand-cu12-10.3.6.82\n",
            "  Attempting uninstall: nvidia-cufft-cu12\n",
            "    Found existing installation: nvidia-cufft-cu12 11.2.3.61\n",
            "    Uninstalling nvidia-cufft-cu12-11.2.3.61:\n",
            "      Successfully uninstalled nvidia-cufft-cu12-11.2.3.61\n",
            "  Attempting uninstall: nvidia-cuda-runtime-cu12\n",
            "    Found existing installation: nvidia-cuda-runtime-cu12 12.5.82\n",
            "    Uninstalling nvidia-cuda-runtime-cu12-12.5.82:\n",
            "      Successfully uninstalled nvidia-cuda-runtime-cu12-12.5.82\n",
            "  Attempting uninstall: nvidia-cuda-nvrtc-cu12\n",
            "    Found existing installation: nvidia-cuda-nvrtc-cu12 12.5.82\n",
            "    Uninstalling nvidia-cuda-nvrtc-cu12-12.5.82:\n",
            "      Successfully uninstalled nvidia-cuda-nvrtc-cu12-12.5.82\n",
            "  Attempting uninstall: nvidia-cuda-cupti-cu12\n",
            "    Found existing installation: nvidia-cuda-cupti-cu12 12.5.82\n",
            "    Uninstalling nvidia-cuda-cupti-cu12-12.5.82:\n",
            "      Successfully uninstalled nvidia-cuda-cupti-cu12-12.5.82\n",
            "  Attempting uninstall: nvidia-cublas-cu12\n",
            "    Found existing installation: nvidia-cublas-cu12 12.5.3.2\n",
            "    Uninstalling nvidia-cublas-cu12-12.5.3.2:\n",
            "      Successfully uninstalled nvidia-cublas-cu12-12.5.3.2\n",
            "  Attempting uninstall: nvidia-cusparse-cu12\n",
            "    Found existing installation: nvidia-cusparse-cu12 12.5.1.3\n",
            "    Uninstalling nvidia-cusparse-cu12-12.5.1.3:\n",
            "      Successfully uninstalled nvidia-cusparse-cu12-12.5.1.3\n",
            "  Attempting uninstall: nvidia-cudnn-cu12\n",
            "    Found existing installation: nvidia-cudnn-cu12 9.3.0.75\n",
            "    Uninstalling nvidia-cudnn-cu12-9.3.0.75:\n",
            "      Successfully uninstalled nvidia-cudnn-cu12-9.3.0.75\n",
            "  Attempting uninstall: nvidia-cusolver-cu12\n",
            "    Found existing installation: nvidia-cusolver-cu12 11.6.3.83\n",
            "    Uninstalling nvidia-cusolver-cu12-11.6.3.83:\n",
            "      Successfully uninstalled nvidia-cusolver-cu12-11.6.3.83\n",
            "Successfully installed hyperpyyaml-1.2.2 nvidia-cublas-cu12-12.4.5.8 nvidia-cuda-cupti-cu12-12.4.127 nvidia-cuda-nvrtc-cu12-12.4.127 nvidia-cuda-runtime-cu12-12.4.127 nvidia-cudnn-cu12-9.1.0.70 nvidia-cufft-cu12-11.2.1.3 nvidia-curand-cu12-10.3.5.147 nvidia-cusolver-cu12-11.6.1.9 nvidia-cusparse-cu12-12.3.1.170 nvidia-nvjitlink-cu12-12.4.127 ruamel.yaml-0.18.10 ruamel.yaml.clib-0.2.12 speechbrain-1.0.2\n",
            "Cloning into 'cryceleb2023'...\n",
            "remote: Enumerating objects: 36, done.\u001b[K\n",
            "remote: Counting objects: 100% (36/36), done.\u001b[K\n",
            "remote: Compressing objects: 100% (28/28), done.\u001b[K\n",
            "remote: Total 36 (delta 13), reused 22 (delta 7), pack-reused 0 (from 0)\u001b[K\n",
            "Receiving objects: 100% (36/36), 27.42 KiB | 9.14 MiB/s, done.\n",
            "Resolving deltas: 100% (13/13), done.\n",
            "/content/cryceleb2023\n"
          ]
        }
      ],
      "source": [
        "# For Colab - uncomment and run the following to set up the repo\n",
        "!pip install speechbrain\n",
        "#!git clone https://github.com/Ubenwa/cryceleb2023.git\n",
        "!git clone https://github.com/DineshKPendyala/cryceleb2023.git\n",
        "%cd cryceleb2023"
      ]
    },
    {
      "cell_type": "code",
      "execution_count": 2,
      "metadata": {
        "id": "5k7MiTJsK2Ba",
        "colab": {
          "base_uri": "https://localhost:8080/",
          "height": 383
        },
        "outputId": "009c1f13-62a5-455c-bf39-9b114d32c740"
      },
      "outputs": [
        {
          "output_type": "error",
          "ename": "ImportError",
          "evalue": "cannot import name 'download_data_drive' from 'crybrain' (/content/cryceleb2023/crybrain.py)",
          "traceback": [
            "\u001b[0;31m---------------------------------------------------------------------------\u001b[0m",
            "\u001b[0;31mImportError\u001b[0m                               Traceback (most recent call last)",
            "\u001b[0;32m<ipython-input-2-302d2c3fbab2>\u001b[0m in \u001b[0;36m<cell line: 0>\u001b[0;34m()\u001b[0m\n\u001b[1;32m     17\u001b[0m \u001b[0;32mfrom\u001b[0m \u001b[0mspeechbrain\u001b[0m\u001b[0;34m.\u001b[0m\u001b[0mdataio\u001b[0m\u001b[0;34m.\u001b[0m\u001b[0mencoder\u001b[0m \u001b[0;32mimport\u001b[0m \u001b[0mCategoricalEncoder\u001b[0m\u001b[0;34m\u001b[0m\u001b[0;34m\u001b[0m\u001b[0m\n\u001b[1;32m     18\u001b[0m \u001b[0;34m\u001b[0m\u001b[0m\n\u001b[0;32m---> 19\u001b[0;31m \u001b[0;32mfrom\u001b[0m \u001b[0mcrybrain\u001b[0m \u001b[0;32mimport\u001b[0m \u001b[0mCryBrain\u001b[0m\u001b[0;34m,\u001b[0m \u001b[0mdownload_data\u001b[0m\u001b[0;34m,\u001b[0m \u001b[0mdownload_data_drive\u001b[0m\u001b[0;34m\u001b[0m\u001b[0;34m\u001b[0m\u001b[0m\n\u001b[0m\u001b[1;32m     20\u001b[0m \u001b[0;34m\u001b[0m\u001b[0m\n\u001b[1;32m     21\u001b[0m \u001b[0;31m#dataset_path = \"data\"\u001b[0m\u001b[0;34m\u001b[0m\u001b[0;34m\u001b[0m\u001b[0m\n",
            "\u001b[0;31mImportError\u001b[0m: cannot import name 'download_data_drive' from 'crybrain' (/content/cryceleb2023/crybrain.py)",
            "",
            "\u001b[0;31m---------------------------------------------------------------------------\u001b[0;32m\nNOTE: If your import is failing due to a missing package, you can\nmanually install dependencies using either !pip or !apt.\n\nTo view examples of installing some common dependencies, click the\n\"Open Examples\" button below.\n\u001b[0;31m---------------------------------------------------------------------------\u001b[0m\n"
          ],
          "errorDetails": {
            "actions": [
              {
                "action": "open_url",
                "actionText": "Open Examples",
                "url": "/notebooks/snippets/importing_libraries.ipynb"
              }
            ]
          }
        }
      ],
      "source": [
        "%%capture\n",
        "%load_ext autoreload\n",
        "%autoreload 2\n",
        "\n",
        "import pathlib\n",
        "import random\n",
        "\n",
        "import numpy as np\n",
        "import pandas as pd\n",
        "import seaborn as sns\n",
        "import speechbrain as sb\n",
        "import torch\n",
        "from huggingface_hub import hf_hub_download\n",
        "from hyperpyyaml import load_hyperpyyaml\n",
        "from IPython.display import display\n",
        "from speechbrain.dataio.dataio import read_audio, write_audio\n",
        "from speechbrain.dataio.dataset import DynamicItemDataset\n",
        "from speechbrain.dataio.encoder import CategoricalEncoder\n",
        "\n",
        "from crybrain import CryBrain, download_data, download_data_drive\n",
        "\n",
        "#dataset_path = \"data\""
      ]
    },
    {
      "cell_type": "code",
      "source": [],
      "metadata": {
        "id": "G9rLVY-GGhAl"
      },
      "execution_count": null,
      "outputs": []
    },
    {
      "cell_type": "markdown",
      "metadata": {
        "id": "oBhuztrjHQX8"
      },
      "source": [
        "### Download data\n",
        "\n",
        "You need to log in to HuggingFace to be able to download the dataset"
      ]
    },
    {
      "cell_type": "code",
      "execution_count": 3,
      "metadata": {
        "id": "Du5UrdEgKx7a",
        "colab": {
          "base_uri": "https://localhost:8080/",
          "height": 330,
          "referenced_widgets": [
            "d4df3831b1f642f89e01db0efae7bd5f",
            "93915e12f9e1472fa3758944b9eb12c2",
            "76de6fda988c4ca28419baf6ddfa312f",
            "b041834c64da48cfb6cf194d0b1bbc1c",
            "9ed5447bde084217b9f1001cede96bad",
            "fb27f7531757442988d271b0e3ef3ff4",
            "a2ea9a78f32240f18ec79b06d4d39607",
            "c41a6f97d41d4f68b37ac0f8a0131b24",
            "363b53b357114256aa66f9927dfa8a7c",
            "175d2b7223d74aee9b8f6363cfcecfd6",
            "b62e2ddf3f2142f58158e98eec6cab4c",
            "1d4c4ffdd4af4917be3ee1ae584ced0c",
            "df57586ec61940afb581f826c8ab30fb",
            "c6abd97fbc1742d48568c64fb9959dc8",
            "3578ddfe2d1b4e9b9288656b56e41672",
            "e9b1aaab49984ae4ac63ad3442d132cc",
            "addcef3309504424bce7b33857d9dccf"
          ]
        },
        "outputId": "7f0a7157-e37f-42fe-de52-cb4632a88d74"
      },
      "outputs": [
        {
          "output_type": "display_data",
          "data": {
            "text/plain": [
              "VBox(children=(HTML(value='<center> <img\\nsrc=https://huggingface.co/front/assets/huggingface_logo-noborder.sv…"
            ],
            "application/vnd.jupyter.widget-view+json": {
              "version_major": 2,
              "version_minor": 0,
              "model_id": "d4df3831b1f642f89e01db0efae7bd5f"
            }
          },
          "metadata": {}
        }
      ],
      "source": [
        "#from huggingface_hub import notebook_login\n",
        "\n",
        "#notebook_login()"
      ]
    },
    {
      "cell_type": "code",
      "source": [
        "from crybrain import CryBrain, download_data , download_data_drive\n"
      ],
      "metadata": {
        "colab": {
          "base_uri": "https://localhost:8080/",
          "height": 314
        },
        "id": "6YYEGKYSPF3B",
        "outputId": "3d779f1f-6dae-406f-cb78-1b644dad1f20"
      },
      "execution_count": 4,
      "outputs": [
        {
          "output_type": "error",
          "ename": "ImportError",
          "evalue": "cannot import name 'download_data_drive' from 'crybrain' (/content/cryceleb2023/crybrain.py)",
          "traceback": [
            "\u001b[0;31m---------------------------------------------------------------------------\u001b[0m",
            "\u001b[0;31mImportError\u001b[0m                               Traceback (most recent call last)",
            "\u001b[0;32m<ipython-input-4-71a195cb6279>\u001b[0m in \u001b[0;36m<cell line: 0>\u001b[0;34m()\u001b[0m\n\u001b[0;32m----> 1\u001b[0;31m \u001b[0;32mfrom\u001b[0m \u001b[0mcrybrain\u001b[0m \u001b[0;32mimport\u001b[0m \u001b[0mCryBrain\u001b[0m\u001b[0;34m,\u001b[0m \u001b[0mdownload_data\u001b[0m \u001b[0;34m,\u001b[0m \u001b[0mdownload_data_drive\u001b[0m\u001b[0;34m\u001b[0m\u001b[0;34m\u001b[0m\u001b[0m\n\u001b[0m",
            "\u001b[0;31mImportError\u001b[0m: cannot import name 'download_data_drive' from 'crybrain' (/content/cryceleb2023/crybrain.py)",
            "",
            "\u001b[0;31m---------------------------------------------------------------------------\u001b[0;32m\nNOTE: If your import is failing due to a missing package, you can\nmanually install dependencies using either !pip or !apt.\n\nTo view examples of installing some common dependencies, click the\n\"Open Examples\" button below.\n\u001b[0;31m---------------------------------------------------------------------------\u001b[0m\n"
          ],
          "errorDetails": {
            "actions": [
              {
                "action": "open_url",
                "actionText": "Open Examples",
                "url": "/notebooks/snippets/importing_libraries.ipynb"
              }
            ]
          }
        }
      ]
    },
    {
      "cell_type": "code",
      "source": [
        "from crybrain import CryBrain, download_data , download_data_drive # Ensure this line is executed before using download_data_drive\n",
        "from google.colab import drive\n",
        "drive.mount('/content/drive')\n",
        "import os\n",
        "dataset_path = \"/content/drive/MyDrive/huggingface_dataset\"\n",
        "download_data_drive(dataset_path)"
      ],
      "metadata": {
        "id": "24MVVV3ZOCtK"
      },
      "execution_count": null,
      "outputs": []
    },
    {
      "cell_type": "code",
      "execution_count": null,
      "metadata": {
        "id": "JrT1EvuiLjlr"
      },
      "outputs": [],
      "source": [
        "# read metadata\n",
        "metadata = pd.read_csv(\n",
        "    f\"{dataset_path}/metadata.csv\", dtype={\"baby_id\": str, \"chronological_index\": str}\n",
        ")\n",
        "train_metadata = metadata.loc[metadata[\"split\"] == \"train\"].copy()\n",
        "display(\n",
        "    train_metadata.head()\n",
        "    .style.set_caption(\"train_metadata\")\n",
        "    .set_table_styles([{\"selector\": \"caption\", \"props\": [(\"font-size\", \"20px\")]}])\n",
        ")\n",
        "display(train_metadata.describe())"
      ]
    },
    {
      "cell_type": "markdown",
      "metadata": {
        "id": "nX6q3zCxtaQa"
      },
      "source": [
        "### Concatenate cry sounds\n",
        "\n",
        "We are given short cry sounds for each baby. Here we simply concatenate them."
      ]
    },
    {
      "cell_type": "code",
      "execution_count": null,
      "metadata": {
        "id": "bUTe9QqwRqE-"
      },
      "outputs": [],
      "source": [
        "# read the segments\n",
        "# read the segments\n",
        "train_metadata[\"cry\"] = train_metadata.apply(\n",
        "    lambda row: read_audio(os.path.join(dataset_path,row[\"file_name\"])).numpy(), axis=1\n",
        ")\n",
        "# concatenate all segments for each (baby_id, period) group\n",
        "manifest_df = pd.DataFrame(\n",
        "    train_metadata.groupby([\"baby_id\", \"period\"])[\"cry\"].agg(lambda x: np.concatenate(x.values)),\n",
        "    columns=[\"cry\"],\n",
        ").reset_index()\n",
        "# all files have 16000 sampling rate\n",
        "manifest_df[\"duration\"] = manifest_df[\"cry\"].apply(len) / 16000\n",
        "pathlib.Path(f\"{dataset_path}/concatenated_audio_train\").mkdir(parents=True,exist_ok=True)\n",
        "manifest_df[\"file_path\"] = manifest_df.apply(\n",
        "    lambda row: f\"{dataset_path}/concatenated_audio_train/{row['baby_id']}_{row['period']}.wav\",\n",
        "    axis=1,\n",
        ")\n",
        "manifest_df.apply(\n",
        "    lambda row: write_audio(\n",
        "        filepath=f'{row[\"file_path\"]}', audio=torch.tensor(row[\"cry\"]), samplerate=16000\n",
        "    ),\n",
        "    axis=1,\n",
        ")\n",
        "manifest_df = manifest_df.drop(columns=[\"cry\"])\n",
        "display(manifest_df)\n",
        "ax = sns.histplot(manifest_df, x=\"duration\")\n",
        "ax.set_title(\"Histogram of Concatenated Cry Sound Lengths\")"
      ]
    },
    {
      "cell_type": "markdown",
      "metadata": {
        "id": "TQ2y68HqK0rR"
      },
      "source": [
        "During training, we will extract random cuts of 3-5 seconds from concatenated audio"
      ]
    },
    {
      "cell_type": "code",
      "execution_count": null,
      "metadata": {
        "id": "8fqkEktdRRXf"
      },
      "outputs": [],
      "source": [
        "def create_cut_length_interval(row, cut_length_interval):\n",
        "    \"\"\"cut_length_interval is a tuple indicating the range of lengths we want our chunks to be.\n",
        "    this function computes the valid range of chunk lengths for each audio file\n",
        "    \"\"\"\n",
        "    # the lengths are in seconds, convert them to frames\n",
        "    cut_length_interval = [round(length * 16000) for length in cut_length_interval]\n",
        "    cry_length = round(row[\"duration\"] * 16000)\n",
        "    # make the interval valid for the specific sound file\n",
        "    min_cut_length, max_cut_length = cut_length_interval\n",
        "    # if min_cut_length is greater than length of cry, don't cut\n",
        "    if min_cut_length >= cry_length:\n",
        "        cut_length_interval = (cry_length, cry_length)\n",
        "    # if max_cut_length is greater than length of cry, take a cut of length between min_cut_length and full length of cry\n",
        "    elif max_cut_length >= cry_length:\n",
        "        cut_length_interval = (min_cut_length, cry_length)\n",
        "    return cut_length_interval\n",
        "\n",
        "\n",
        "cut_length_interval = (3, 5)\n",
        "manifest_df[\"cut_length_interval_in_frames\"] = manifest_df.apply(\n",
        "    lambda row: create_cut_length_interval(row, cut_length_interval=cut_length_interval), axis=1\n",
        ")"
      ]
    },
    {
      "cell_type": "code",
      "source": [
        "display(manifest_df)"
      ],
      "metadata": {
        "id": "HaauIwBgoAKF"
      },
      "execution_count": null,
      "outputs": []
    },
    {
      "cell_type": "markdown",
      "metadata": {
        "id": "VS6R0uA2tpAJ"
      },
      "source": [
        "### Split into train and val\n",
        "\n",
        "For training a classfier, we can split the data into train/val in any way, as long as val does not contain new classes\n",
        "\n",
        "One way to split is to split by period: train on birth recordings and validate on discharge"
      ]
    },
    {
      "cell_type": "code",
      "execution_count": null,
      "metadata": {
        "id": "KceQZp_pga34"
      },
      "outputs": [],
      "source": [
        "# we can train on any subset of babies (e.g. to reduce the number of classes, only keep babies with long enough cries, etc)\n",
        "def get_babies_with_both_recordings(manifest_df):\n",
        "    count_of_periods_per_baby = manifest_df.groupby(\"baby_id\")[\"period\"].count()\n",
        "    baby_ids_with_recording_from_both_periods = count_of_periods_per_baby[\n",
        "        count_of_periods_per_baby == 2\n",
        "    ].index\n",
        "    return baby_ids_with_recording_from_both_periods\n",
        "\n",
        "\n",
        "# def get_babies_with_a_birth_recording(manifest_df):\n",
        "#   bool_series = manifest_df.groupby('baby_id')['period'].unique().apply(set(['B']).issubset)\n",
        "#   baby_ids_with_a_recordings_from_birth = bool_series[bool_series].index\n",
        "#   return baby_ids_with_a_recordings_from_birth\n",
        "\n",
        "\n",
        "def split_by_period(row, included_baby_ids):\n",
        "    if row[\"baby_id\"] in included_baby_ids:\n",
        "        if row[\"period\"] == \"B\":\n",
        "            return \"train\"\n",
        "        else:\n",
        "            return \"val\"\n",
        "    else:\n",
        "        return \"not_used\"\n",
        "\n",
        "\n",
        "babies_with_both_recordings = get_babies_with_both_recordings(manifest_df)\n",
        "manifest_df[\"split\"] = manifest_df.apply(\n",
        "    lambda row: split_by_period(row, included_baby_ids=babies_with_both_recordings), axis=1\n",
        ")\n",
        "\n",
        "# each instance will be identified with a unique id\n",
        "manifest_df[\"id\"] = manifest_df[\"baby_id\"] + \"_\" + manifest_df[\"period\"]\n",
        "display(manifest_df)\n",
        "display(\n",
        "    manifest_df[\"split\"]\n",
        "    .value_counts()\n",
        "    .rename(\"use_babies_with_both_recordings_and_split_by_period\")\n",
        ")\n",
        "manifest_df.set_index(\"id\").to_json(\"manifest.json\", orient=\"index\")"
      ]
    },
    {
      "cell_type": "markdown",
      "metadata": {
        "id": "N2X-8Zs2-Mhm"
      },
      "source": [
        "### Create dynamic datasets\n",
        "\n",
        "See SpeechBrain documentation to understand details"
      ]
    },
    {
      "cell_type": "code",
      "execution_count": null,
      "metadata": {
        "id": "1NxmeLy_fj99"
      },
      "outputs": [],
      "source": [
        "# create a dynamic dataset from the csv, only used to create train and val datasets\n",
        "dataset = DynamicItemDataset.from_json(\"manifest.json\")\n",
        "baby_id_encoder = CategoricalEncoder()\n",
        "datasets = {}\n",
        "# create a dataset for each split\n",
        "for split in [\"train\", \"val\"]:\n",
        "    # retrieve the desired slice (train or val) and sort by length to minimize amount of padding\n",
        "    datasets[split] = dataset.filtered_sorted(\n",
        "        key_test={\"split\": lambda value: value == split}, sort_key=\"duration\"\n",
        "    )  # select_n=100\n",
        "    # create the baby_id_encoded field\n",
        "    datasets[split].add_dynamic_item(\n",
        "        baby_id_encoder.encode_label_torch, takes=\"baby_id\", provides=\"baby_id_encoded\"\n",
        "    )\n",
        "    # set visible fields\n",
        "    datasets[split].set_output_keys([\"id\", \"baby_id\", \"baby_id_encoded\", \"sig\"])\n",
        "\n",
        "\n",
        "# create the signal field for the val split (no chunking)\n",
        "datasets[\"val\"].add_dynamic_item(sb.dataio.dataio.read_audio, takes=\"file_path\", provides=\"sig\")\n",
        "\n",
        "# the label encoder will map the baby_ids to target classes 0, 1, 2, ...\n",
        "# only use the classes which appear in `train`,\n",
        "baby_id_encoder.update_from_didataset(datasets[\"train\"], \"baby_id\")\n",
        "\n",
        "\n",
        "# for reading the train split, we add chunking\n",
        "def audio_pipeline(file_path, cut_length_interval_in_frames):\n",
        "    \"\"\"Load the signal, and pass it and its length to the corruption class.\n",
        "    This is done on the CPU in the `collate_fn`.\"\"\"\n",
        "    sig = sb.dataio.dataio.read_audio(file_path)\n",
        "    if cut_length_interval_in_frames is not None:\n",
        "        cut_length = random.randint(*cut_length_interval_in_frames)\n",
        "        # pick the start index of the cut\n",
        "        left_index = random.randint(0, len(sig) - cut_length)\n",
        "        # cut the signal\n",
        "        sig = sig[left_index : left_index + cut_length]\n",
        "    return sig\n",
        "\n",
        "\n",
        "# create the signal field (with chunking)\n",
        "datasets[\"train\"].add_dynamic_item(\n",
        "    audio_pipeline, takes=[\"file_path\", \"cut_length_interval_in_frames\"], provides=\"sig\"\n",
        ")\n",
        "\n",
        "display(datasets[\"train\"][0])"
      ]
    },
    {
      "cell_type": "markdown",
      "metadata": {
        "id": "bbwH78P8_TOd"
      },
      "source": [
        "### Fine-tune the classifier\n",
        "\n",
        "Here we use a very basic example that just trains for 5 epochs"
      ]
    },
    {
      "cell_type": "code",
      "execution_count": null,
      "metadata": {
        "id": "ixojL5uH5y1V"
      },
      "outputs": [],
      "source": [
        "config_filename = \"hparams/ecapa_voxceleb_basic.yaml\"\n",
        "overrides = {\n",
        "    \"seed\": 3011,\n",
        "    \"n_classes\": len(baby_id_encoder),\n",
        "    \"experiment_name\": \"ecapa_voxceleb_ft_basic\",\n",
        "    \"bs\": 32,\n",
        "    \"n_epochs\": 100,\n",
        "}\n",
        "device = \"cuda\"\n",
        "run_opts = {\"device\": device}\n",
        "###########################################\n",
        "# Load hyperparameters file with command-line overrides.\n",
        "with open(config_filename) as fin:\n",
        "    hparams = load_hyperpyyaml(fin, overrides)\n",
        "# Create experiment directory\n",
        "sb.create_experiment_directory(\n",
        "    experiment_directory=hparams[\"experiment_dir\"],\n",
        "    hyperparams_to_save=config_filename,\n",
        "    overrides=overrides,\n",
        ")\n",
        "\n",
        "# Initialize the Brain object to prepare for training.\n",
        "crybrain = CryBrain(\n",
        "    modules=hparams[\"modules\"],\n",
        "    opt_class=hparams[\"opt_class\"],\n",
        "    hparams=hparams,\n",
        "    run_opts=run_opts,\n",
        "    checkpointer=hparams[\"checkpointer\"],\n",
        ")\n",
        "\n",
        "# if a pretrained model is specified, load it\n",
        "if \"pretrained_embedding_model\" in hparams:\n",
        "    sb.utils.distributed.run_on_main(hparams[\"pretrained_embedding_model\"].collect_files)\n",
        "    hparams[\"pretrained_embedding_model\"].load_collected()\n",
        "\n",
        "crybrain.fit(\n",
        "    epoch_counter=crybrain.hparams.epoch_counter,\n",
        "    train_set=datasets[\"train\"],\n",
        "    valid_set=datasets[\"val\"],\n",
        "    train_loader_kwargs=hparams[\"train_dataloader_options\"],\n",
        "    valid_loader_kwargs=hparams[\"val_dataloader_options\"],\n",
        ")"
      ]
    },
    {
      "cell_type": "markdown",
      "metadata": {
        "id": "cVDparawc1YF"
      },
      "source": [
        "You can now use embedding_model.ckpt from this recipe and use it in evaluate.ipynb to verify pairs of cries and submit your results!"
      ]
    }
  ],
  "metadata": {
    "accelerator": "GPU",
    "colab": {
      "gpuType": "T4",
      "provenance": []
    },
    "gpuClass": "standard",
    "kernelspec": {
      "display_name": "Python 3 (ipykernel)",
      "language": "python",
      "name": "python3"
    },
    "language_info": {
      "codemirror_mode": {
        "name": "ipython",
        "version": 3
      },
      "file_extension": ".py",
      "mimetype": "text/x-python",
      "name": "python",
      "nbconvert_exporter": "python",
      "pygments_lexer": "ipython3",
      "version": "3.8.16"
    },
    "widgets": {
      "application/vnd.jupyter.widget-state+json": {
        "d4df3831b1f642f89e01db0efae7bd5f": {
          "model_module": "@jupyter-widgets/controls",
          "model_name": "VBoxModel",
          "model_module_version": "1.5.0",
          "state": {
            "_dom_classes": [],
            "_model_module": "@jupyter-widgets/controls",
            "_model_module_version": "1.5.0",
            "_model_name": "VBoxModel",
            "_view_count": null,
            "_view_module": "@jupyter-widgets/controls",
            "_view_module_version": "1.5.0",
            "_view_name": "VBoxView",
            "box_style": "",
            "children": [
              "IPY_MODEL_93915e12f9e1472fa3758944b9eb12c2",
              "IPY_MODEL_76de6fda988c4ca28419baf6ddfa312f",
              "IPY_MODEL_b041834c64da48cfb6cf194d0b1bbc1c",
              "IPY_MODEL_9ed5447bde084217b9f1001cede96bad",
              "IPY_MODEL_fb27f7531757442988d271b0e3ef3ff4"
            ],
            "layout": "IPY_MODEL_a2ea9a78f32240f18ec79b06d4d39607"
          }
        },
        "93915e12f9e1472fa3758944b9eb12c2": {
          "model_module": "@jupyter-widgets/controls",
          "model_name": "HTMLModel",
          "model_module_version": "1.5.0",
          "state": {
            "_dom_classes": [],
            "_model_module": "@jupyter-widgets/controls",
            "_model_module_version": "1.5.0",
            "_model_name": "HTMLModel",
            "_view_count": null,
            "_view_module": "@jupyter-widgets/controls",
            "_view_module_version": "1.5.0",
            "_view_name": "HTMLView",
            "description": "",
            "description_tooltip": null,
            "layout": "IPY_MODEL_c41a6f97d41d4f68b37ac0f8a0131b24",
            "placeholder": "​",
            "style": "IPY_MODEL_363b53b357114256aa66f9927dfa8a7c",
            "value": "<center> <img\nsrc=https://huggingface.co/front/assets/huggingface_logo-noborder.svg\nalt='Hugging Face'> <br> Copy a token from <a\nhref=\"https://huggingface.co/settings/tokens\" target=\"_blank\">your Hugging Face\ntokens page</a> and paste it below. <br> Immediately click login after copying\nyour token or it might be stored in plain text in this notebook file. </center>"
          }
        },
        "76de6fda988c4ca28419baf6ddfa312f": {
          "model_module": "@jupyter-widgets/controls",
          "model_name": "PasswordModel",
          "model_module_version": "1.5.0",
          "state": {
            "_dom_classes": [],
            "_model_module": "@jupyter-widgets/controls",
            "_model_module_version": "1.5.0",
            "_model_name": "PasswordModel",
            "_view_count": null,
            "_view_module": "@jupyter-widgets/controls",
            "_view_module_version": "1.5.0",
            "_view_name": "PasswordView",
            "continuous_update": true,
            "description": "Token:",
            "description_tooltip": null,
            "disabled": false,
            "layout": "IPY_MODEL_175d2b7223d74aee9b8f6363cfcecfd6",
            "placeholder": "​",
            "style": "IPY_MODEL_b62e2ddf3f2142f58158e98eec6cab4c",
            "value": ""
          }
        },
        "b041834c64da48cfb6cf194d0b1bbc1c": {
          "model_module": "@jupyter-widgets/controls",
          "model_name": "CheckboxModel",
          "model_module_version": "1.5.0",
          "state": {
            "_dom_classes": [],
            "_model_module": "@jupyter-widgets/controls",
            "_model_module_version": "1.5.0",
            "_model_name": "CheckboxModel",
            "_view_count": null,
            "_view_module": "@jupyter-widgets/controls",
            "_view_module_version": "1.5.0",
            "_view_name": "CheckboxView",
            "description": "Add token as git credential?",
            "description_tooltip": null,
            "disabled": false,
            "indent": true,
            "layout": "IPY_MODEL_1d4c4ffdd4af4917be3ee1ae584ced0c",
            "style": "IPY_MODEL_df57586ec61940afb581f826c8ab30fb",
            "value": true
          }
        },
        "9ed5447bde084217b9f1001cede96bad": {
          "model_module": "@jupyter-widgets/controls",
          "model_name": "ButtonModel",
          "model_module_version": "1.5.0",
          "state": {
            "_dom_classes": [],
            "_model_module": "@jupyter-widgets/controls",
            "_model_module_version": "1.5.0",
            "_model_name": "ButtonModel",
            "_view_count": null,
            "_view_module": "@jupyter-widgets/controls",
            "_view_module_version": "1.5.0",
            "_view_name": "ButtonView",
            "button_style": "",
            "description": "Login",
            "disabled": false,
            "icon": "",
            "layout": "IPY_MODEL_c6abd97fbc1742d48568c64fb9959dc8",
            "style": "IPY_MODEL_3578ddfe2d1b4e9b9288656b56e41672",
            "tooltip": ""
          }
        },
        "fb27f7531757442988d271b0e3ef3ff4": {
          "model_module": "@jupyter-widgets/controls",
          "model_name": "HTMLModel",
          "model_module_version": "1.5.0",
          "state": {
            "_dom_classes": [],
            "_model_module": "@jupyter-widgets/controls",
            "_model_module_version": "1.5.0",
            "_model_name": "HTMLModel",
            "_view_count": null,
            "_view_module": "@jupyter-widgets/controls",
            "_view_module_version": "1.5.0",
            "_view_name": "HTMLView",
            "description": "",
            "description_tooltip": null,
            "layout": "IPY_MODEL_e9b1aaab49984ae4ac63ad3442d132cc",
            "placeholder": "​",
            "style": "IPY_MODEL_addcef3309504424bce7b33857d9dccf",
            "value": "\n<b>Pro Tip:</b> If you don't already have one, you can create a dedicated\n'notebooks' token with 'write' access, that you can then easily reuse for all\nnotebooks. </center>"
          }
        },
        "a2ea9a78f32240f18ec79b06d4d39607": {
          "model_module": "@jupyter-widgets/base",
          "model_name": "LayoutModel",
          "model_module_version": "1.2.0",
          "state": {
            "_model_module": "@jupyter-widgets/base",
            "_model_module_version": "1.2.0",
            "_model_name": "LayoutModel",
            "_view_count": null,
            "_view_module": "@jupyter-widgets/base",
            "_view_module_version": "1.2.0",
            "_view_name": "LayoutView",
            "align_content": null,
            "align_items": "center",
            "align_self": null,
            "border": null,
            "bottom": null,
            "display": "flex",
            "flex": null,
            "flex_flow": "column",
            "grid_area": null,
            "grid_auto_columns": null,
            "grid_auto_flow": null,
            "grid_auto_rows": null,
            "grid_column": null,
            "grid_gap": null,
            "grid_row": null,
            "grid_template_areas": null,
            "grid_template_columns": null,
            "grid_template_rows": null,
            "height": null,
            "justify_content": null,
            "justify_items": null,
            "left": null,
            "margin": null,
            "max_height": null,
            "max_width": null,
            "min_height": null,
            "min_width": null,
            "object_fit": null,
            "object_position": null,
            "order": null,
            "overflow": null,
            "overflow_x": null,
            "overflow_y": null,
            "padding": null,
            "right": null,
            "top": null,
            "visibility": null,
            "width": "50%"
          }
        },
        "c41a6f97d41d4f68b37ac0f8a0131b24": {
          "model_module": "@jupyter-widgets/base",
          "model_name": "LayoutModel",
          "model_module_version": "1.2.0",
          "state": {
            "_model_module": "@jupyter-widgets/base",
            "_model_module_version": "1.2.0",
            "_model_name": "LayoutModel",
            "_view_count": null,
            "_view_module": "@jupyter-widgets/base",
            "_view_module_version": "1.2.0",
            "_view_name": "LayoutView",
            "align_content": null,
            "align_items": null,
            "align_self": null,
            "border": null,
            "bottom": null,
            "display": null,
            "flex": null,
            "flex_flow": null,
            "grid_area": null,
            "grid_auto_columns": null,
            "grid_auto_flow": null,
            "grid_auto_rows": null,
            "grid_column": null,
            "grid_gap": null,
            "grid_row": null,
            "grid_template_areas": null,
            "grid_template_columns": null,
            "grid_template_rows": null,
            "height": null,
            "justify_content": null,
            "justify_items": null,
            "left": null,
            "margin": null,
            "max_height": null,
            "max_width": null,
            "min_height": null,
            "min_width": null,
            "object_fit": null,
            "object_position": null,
            "order": null,
            "overflow": null,
            "overflow_x": null,
            "overflow_y": null,
            "padding": null,
            "right": null,
            "top": null,
            "visibility": null,
            "width": null
          }
        },
        "363b53b357114256aa66f9927dfa8a7c": {
          "model_module": "@jupyter-widgets/controls",
          "model_name": "DescriptionStyleModel",
          "model_module_version": "1.5.0",
          "state": {
            "_model_module": "@jupyter-widgets/controls",
            "_model_module_version": "1.5.0",
            "_model_name": "DescriptionStyleModel",
            "_view_count": null,
            "_view_module": "@jupyter-widgets/base",
            "_view_module_version": "1.2.0",
            "_view_name": "StyleView",
            "description_width": ""
          }
        },
        "175d2b7223d74aee9b8f6363cfcecfd6": {
          "model_module": "@jupyter-widgets/base",
          "model_name": "LayoutModel",
          "model_module_version": "1.2.0",
          "state": {
            "_model_module": "@jupyter-widgets/base",
            "_model_module_version": "1.2.0",
            "_model_name": "LayoutModel",
            "_view_count": null,
            "_view_module": "@jupyter-widgets/base",
            "_view_module_version": "1.2.0",
            "_view_name": "LayoutView",
            "align_content": null,
            "align_items": null,
            "align_self": null,
            "border": null,
            "bottom": null,
            "display": null,
            "flex": null,
            "flex_flow": null,
            "grid_area": null,
            "grid_auto_columns": null,
            "grid_auto_flow": null,
            "grid_auto_rows": null,
            "grid_column": null,
            "grid_gap": null,
            "grid_row": null,
            "grid_template_areas": null,
            "grid_template_columns": null,
            "grid_template_rows": null,
            "height": null,
            "justify_content": null,
            "justify_items": null,
            "left": null,
            "margin": null,
            "max_height": null,
            "max_width": null,
            "min_height": null,
            "min_width": null,
            "object_fit": null,
            "object_position": null,
            "order": null,
            "overflow": null,
            "overflow_x": null,
            "overflow_y": null,
            "padding": null,
            "right": null,
            "top": null,
            "visibility": null,
            "width": null
          }
        },
        "b62e2ddf3f2142f58158e98eec6cab4c": {
          "model_module": "@jupyter-widgets/controls",
          "model_name": "DescriptionStyleModel",
          "model_module_version": "1.5.0",
          "state": {
            "_model_module": "@jupyter-widgets/controls",
            "_model_module_version": "1.5.0",
            "_model_name": "DescriptionStyleModel",
            "_view_count": null,
            "_view_module": "@jupyter-widgets/base",
            "_view_module_version": "1.2.0",
            "_view_name": "StyleView",
            "description_width": ""
          }
        },
        "1d4c4ffdd4af4917be3ee1ae584ced0c": {
          "model_module": "@jupyter-widgets/base",
          "model_name": "LayoutModel",
          "model_module_version": "1.2.0",
          "state": {
            "_model_module": "@jupyter-widgets/base",
            "_model_module_version": "1.2.0",
            "_model_name": "LayoutModel",
            "_view_count": null,
            "_view_module": "@jupyter-widgets/base",
            "_view_module_version": "1.2.0",
            "_view_name": "LayoutView",
            "align_content": null,
            "align_items": null,
            "align_self": null,
            "border": null,
            "bottom": null,
            "display": null,
            "flex": null,
            "flex_flow": null,
            "grid_area": null,
            "grid_auto_columns": null,
            "grid_auto_flow": null,
            "grid_auto_rows": null,
            "grid_column": null,
            "grid_gap": null,
            "grid_row": null,
            "grid_template_areas": null,
            "grid_template_columns": null,
            "grid_template_rows": null,
            "height": null,
            "justify_content": null,
            "justify_items": null,
            "left": null,
            "margin": null,
            "max_height": null,
            "max_width": null,
            "min_height": null,
            "min_width": null,
            "object_fit": null,
            "object_position": null,
            "order": null,
            "overflow": null,
            "overflow_x": null,
            "overflow_y": null,
            "padding": null,
            "right": null,
            "top": null,
            "visibility": null,
            "width": null
          }
        },
        "df57586ec61940afb581f826c8ab30fb": {
          "model_module": "@jupyter-widgets/controls",
          "model_name": "DescriptionStyleModel",
          "model_module_version": "1.5.0",
          "state": {
            "_model_module": "@jupyter-widgets/controls",
            "_model_module_version": "1.5.0",
            "_model_name": "DescriptionStyleModel",
            "_view_count": null,
            "_view_module": "@jupyter-widgets/base",
            "_view_module_version": "1.2.0",
            "_view_name": "StyleView",
            "description_width": ""
          }
        },
        "c6abd97fbc1742d48568c64fb9959dc8": {
          "model_module": "@jupyter-widgets/base",
          "model_name": "LayoutModel",
          "model_module_version": "1.2.0",
          "state": {
            "_model_module": "@jupyter-widgets/base",
            "_model_module_version": "1.2.0",
            "_model_name": "LayoutModel",
            "_view_count": null,
            "_view_module": "@jupyter-widgets/base",
            "_view_module_version": "1.2.0",
            "_view_name": "LayoutView",
            "align_content": null,
            "align_items": null,
            "align_self": null,
            "border": null,
            "bottom": null,
            "display": null,
            "flex": null,
            "flex_flow": null,
            "grid_area": null,
            "grid_auto_columns": null,
            "grid_auto_flow": null,
            "grid_auto_rows": null,
            "grid_column": null,
            "grid_gap": null,
            "grid_row": null,
            "grid_template_areas": null,
            "grid_template_columns": null,
            "grid_template_rows": null,
            "height": null,
            "justify_content": null,
            "justify_items": null,
            "left": null,
            "margin": null,
            "max_height": null,
            "max_width": null,
            "min_height": null,
            "min_width": null,
            "object_fit": null,
            "object_position": null,
            "order": null,
            "overflow": null,
            "overflow_x": null,
            "overflow_y": null,
            "padding": null,
            "right": null,
            "top": null,
            "visibility": null,
            "width": null
          }
        },
        "3578ddfe2d1b4e9b9288656b56e41672": {
          "model_module": "@jupyter-widgets/controls",
          "model_name": "ButtonStyleModel",
          "model_module_version": "1.5.0",
          "state": {
            "_model_module": "@jupyter-widgets/controls",
            "_model_module_version": "1.5.0",
            "_model_name": "ButtonStyleModel",
            "_view_count": null,
            "_view_module": "@jupyter-widgets/base",
            "_view_module_version": "1.2.0",
            "_view_name": "StyleView",
            "button_color": null,
            "font_weight": ""
          }
        },
        "e9b1aaab49984ae4ac63ad3442d132cc": {
          "model_module": "@jupyter-widgets/base",
          "model_name": "LayoutModel",
          "model_module_version": "1.2.0",
          "state": {
            "_model_module": "@jupyter-widgets/base",
            "_model_module_version": "1.2.0",
            "_model_name": "LayoutModel",
            "_view_count": null,
            "_view_module": "@jupyter-widgets/base",
            "_view_module_version": "1.2.0",
            "_view_name": "LayoutView",
            "align_content": null,
            "align_items": null,
            "align_self": null,
            "border": null,
            "bottom": null,
            "display": null,
            "flex": null,
            "flex_flow": null,
            "grid_area": null,
            "grid_auto_columns": null,
            "grid_auto_flow": null,
            "grid_auto_rows": null,
            "grid_column": null,
            "grid_gap": null,
            "grid_row": null,
            "grid_template_areas": null,
            "grid_template_columns": null,
            "grid_template_rows": null,
            "height": null,
            "justify_content": null,
            "justify_items": null,
            "left": null,
            "margin": null,
            "max_height": null,
            "max_width": null,
            "min_height": null,
            "min_width": null,
            "object_fit": null,
            "object_position": null,
            "order": null,
            "overflow": null,
            "overflow_x": null,
            "overflow_y": null,
            "padding": null,
            "right": null,
            "top": null,
            "visibility": null,
            "width": null
          }
        },
        "addcef3309504424bce7b33857d9dccf": {
          "model_module": "@jupyter-widgets/controls",
          "model_name": "DescriptionStyleModel",
          "model_module_version": "1.5.0",
          "state": {
            "_model_module": "@jupyter-widgets/controls",
            "_model_module_version": "1.5.0",
            "_model_name": "DescriptionStyleModel",
            "_view_count": null,
            "_view_module": "@jupyter-widgets/base",
            "_view_module_version": "1.2.0",
            "_view_name": "StyleView",
            "description_width": ""
          }
        }
      }
    }
  },
  "nbformat": 4,
  "nbformat_minor": 0
}